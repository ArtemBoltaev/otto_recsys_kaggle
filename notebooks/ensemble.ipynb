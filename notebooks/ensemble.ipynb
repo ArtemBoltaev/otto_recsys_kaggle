{
 "cells": [
  {
   "cell_type": "markdown",
   "id": "b9d597fa",
   "metadata": {
    "_cell_guid": "b1076dfc-b9ad-4769-8c92-a6c4dae69d19",
    "_uuid": "8f2839f25d086af736a60e9eeb907d3b93b6e0e5",
    "papermill": {
     "duration": 0.005774,
     "end_time": "2022-11-27T13:51:53.982980",
     "exception": false,
     "start_time": "2022-11-27T13:51:53.977206",
     "status": "completed"
    },
    "tags": []
   },
   "source": [
    "A good solution to this competition will most certainly require ensembling. But what are some good ways of ensembling predictions?\n",
    "\n",
    "In this notebook, we will look at two approaches:\n",
    "* voting ensemble\n",
    "* voting ensemble with weights (this allows you to put more weight on predictions that got a better validation/LB score)\n",
    "\n",
    "As always, the challenge will be the resources that we have available. With each submissions file at over 5 million rows, each row containing 20 predictions, the proble of available RAM is non-trivial!\n",
    "\n",
    "To combat this, we will use the very memory efficient `polars` 🙂\n",
    "\n",
    "As a basis for our work, let us use the following three submissions:\n",
    "\n",
    "* [Candidate ReRank Model - [LB 0.575]](https://www.kaggle.com/code/cdeotte/candidate-rerank-model-lb-0-575) [0.575] by Chris Deotte\n",
    "* [Test Dataset Is All We Need?](https://www.kaggle.com/code/tomooinubushi/test-dataset-is-all-we-need/notebook) [0.522] by Tomoo Inubushi\n",
    "* [💡Matrix Factorization [PyTorch+Merlin Dataloader]](https://www.kaggle.com/code/radek1/matrix-factorization-pytorch-merlin-dataloader/notebook) [0.493] by yours truly\n",
    "\n",
    "Let's get started!\n",
    "\n",
    "**Please upvote if you like his notebook 🙏 It would be of great help to me if you do. Thank you!**\n",
    "\n",
    "*Please note: In this notebook, we are ensembling 1 good solution with 2 that are not that great, hence we can't expect great results with equal weights. Even when setting the weights to something that is reasonable given the performance of each solution, we still cannot expect a very good result.*\n",
    "\n",
    "*However, when I used this method locally on my own submissions, I was able to combine several solutions generated with the same ranking model (by varying the seed) to improve my LB score from 0.576 to 0.577. This effect can be even stronger when ensembling more varied solutions.*"
   ]
  },
  {
   "cell_type": "markdown",
   "id": "92c9bfa3",
   "metadata": {
    "papermill": {
     "duration": 0.004256,
     "end_time": "2022-11-27T13:51:53.992083",
     "exception": false,
     "start_time": "2022-11-27T13:51:53.987827",
     "status": "completed"
    },
    "tags": []
   },
   "source": [
    "# Loading the data"
   ]
  },
  {
   "cell_type": "code",
   "execution_count": 1,
   "id": "437d0a1a",
   "metadata": {
    "execution": {
     "iopub.execute_input": "2022-11-27T13:51:54.005418Z",
     "iopub.status.busy": "2022-11-27T13:51:54.004068Z",
     "iopub.status.idle": "2022-11-27T13:52:09.809587Z",
     "shell.execute_reply": "2022-11-27T13:52:09.808018Z"
    },
    "papermill": {
     "duration": 15.815817,
     "end_time": "2022-11-27T13:52:09.812981",
     "exception": false,
     "start_time": "2022-11-27T13:51:53.997164",
     "status": "completed"
    },
    "tags": []
   },
   "outputs": [],
   "source": [
    "#!pip install polars # why are we using polars? it has much smaller memory footprint than pandas!"
   ]
  },
  {
   "cell_type": "code",
   "execution_count": 2,
   "id": "07899940",
   "metadata": {
    "execution": {
     "iopub.execute_input": "2022-11-27T13:52:09.827627Z",
     "iopub.status.busy": "2022-11-27T13:52:09.827201Z",
     "iopub.status.idle": "2022-11-27T13:52:09.887979Z",
     "shell.execute_reply": "2022-11-27T13:52:09.886902Z"
    },
    "papermill": {
     "duration": 0.071351,
     "end_time": "2022-11-27T13:52:09.890597",
     "exception": false,
     "start_time": "2022-11-27T13:52:09.819246",
     "status": "completed"
    },
    "tags": []
   },
   "outputs": [],
   "source": [
    "import polars as pl"
   ]
  },
  {
   "cell_type": "markdown",
   "id": "f4d8b4ab",
   "metadata": {
    "papermill": {
     "duration": 0.005764,
     "end_time": "2022-11-27T13:52:09.902552",
     "exception": false,
     "start_time": "2022-11-27T13:52:09.896788",
     "status": "completed"
    },
    "tags": []
   },
   "source": [
    "Here are the submissions that we will use. We order the file paths from best performing to the worst."
   ]
  },
  {
   "cell_type": "code",
   "execution_count": 3,
   "id": "8da75e22",
   "metadata": {
    "execution": {
     "iopub.execute_input": "2022-11-27T13:52:09.917789Z",
     "iopub.status.busy": "2022-11-27T13:52:09.916942Z",
     "iopub.status.idle": "2022-11-27T13:52:09.922148Z",
     "shell.execute_reply": "2022-11-27T13:52:09.920984Z"
    },
    "papermill": {
     "duration": 0.015662,
     "end_time": "2022-11-27T13:52:09.924762",
     "exception": false,
     "start_time": "2022-11-27T13:52:09.909100",
     "status": "completed"
    },
    "tags": []
   },
   "outputs": [],
   "source": [
    "paths = [\n",
    "    \"/Users/Artem_Boltaev/Documents/EPAM Projects/7. RecSys_OTTO_Kaggle/source_code/otto_recsys_kaggle/data/interim/submission_OTTO_0.578.csv.gz\",\n",
    "    \"/Users/Artem_Boltaev/Documents/EPAM Projects/7. RecSys_OTTO_Kaggle/source_code/otto_recsys_kaggle/models/session-rec/results/next/OTTO/submission_OTTO_V8.csv.gz\",\n",
    "    \"/Users/Artem_Boltaev/Documents/EPAM Projects/7. RecSys_OTTO_Kaggle/source_code/otto_recsys_kaggle/models/session-rec/results/next/OTTO/submission_OTTO_V7.csv.gz\",\n",
    "]"
   ]
  },
  {
   "cell_type": "markdown",
   "id": "6b75c818",
   "metadata": {
    "papermill": {
     "duration": 0.005702,
     "end_time": "2022-11-27T13:52:09.936534",
     "exception": false,
     "start_time": "2022-11-27T13:52:09.930832",
     "status": "completed"
    },
    "tags": []
   },
   "source": [
    "We can load all the submissions at once, but we have to be very careful about what operations we run on the data as it is very simple to run out of RAM."
   ]
  },
  {
   "cell_type": "code",
   "execution_count": 4,
   "id": "954473c9",
   "metadata": {
    "execution": {
     "iopub.execute_input": "2022-11-27T13:52:09.951138Z",
     "iopub.status.busy": "2022-11-27T13:52:09.950016Z",
     "iopub.status.idle": "2022-11-27T13:52:09.958032Z",
     "shell.execute_reply": "2022-11-27T13:52:09.957175Z"
    },
    "papermill": {
     "duration": 0.017574,
     "end_time": "2022-11-27T13:52:09.960195",
     "exception": false,
     "start_time": "2022-11-27T13:52:09.942621",
     "status": "completed"
    },
    "tags": []
   },
   "outputs": [],
   "source": [
    "def read_sub(path, weight=1): # by default let us assing the weight of 1 to predictions from each submission, this will be akin to a standard vote ensemble\n",
    "    '''a helper function for loading and preprocessing submissions'''\n",
    "    return (\n",
    "        pl.read_csv(path)\n",
    "            .with_column(pl.col('labels').str.split(by=\" \"))\n",
    "            .with_column(pl.lit(weight).alias('vote'))\n",
    "            .explode('labels')\n",
    "            .rename({'labels': 'aid'})\n",
    "            .with_column(pl.col('aid')) # we are casting the `aids` to `Int32`! memory management is super important to ensure we don't run out of resources\n",
    "            .with_column(pl.col('vote').cast(pl.UInt8))\n",
    "    )"
   ]
  },
  {
   "cell_type": "markdown",
   "id": "162ecd47",
   "metadata": {
    "papermill": {
     "duration": 0.005774,
     "end_time": "2022-11-27T13:52:09.972058",
     "exception": false,
     "start_time": "2022-11-27T13:52:09.966284",
     "status": "completed"
    },
    "tags": []
   },
   "source": [
    "Loading all the data at once."
   ]
  },
  {
   "cell_type": "code",
   "execution_count": 5,
   "id": "7dc65582",
   "metadata": {
    "execution": {
     "iopub.execute_input": "2022-11-27T13:52:09.986489Z",
     "iopub.status.busy": "2022-11-27T13:52:09.985706Z",
     "iopub.status.idle": "2022-11-27T13:53:10.694727Z",
     "shell.execute_reply": "2022-11-27T13:53:10.693868Z"
    },
    "papermill": {
     "duration": 60.726217,
     "end_time": "2022-11-27T13:53:10.704300",
     "exception": false,
     "start_time": "2022-11-27T13:52:09.978083",
     "status": "completed"
    },
    "tags": []
   },
   "outputs": [
    {
     "data": {
      "text/html": [
       "<div>\n",
       "<style scoped>\n",
       "    .dataframe tbody tr th:only-of-type {\n",
       "        vertical-align: middle;\n",
       "    }\n",
       "\n",
       "    .dataframe tbody tr th {\n",
       "        vertical-align: top;\n",
       "    }\n",
       "\n",
       "    .dataframe thead th {\n",
       "        text-align: right;\n",
       "    }\n",
       "\n",
       "    .dataframe td {\n",
       "        white-space: pre;\n",
       "    }\n",
       "\n",
       "    .dataframe td {\n",
       "        padding-top: 0;\n",
       "    }\n",
       "\n",
       "    .dataframe td {\n",
       "        padding-bottom: 0;\n",
       "    }\n",
       "</style>\n",
       "<table border=\"1\" class=\"dataframe\">\n",
       "<small>shape: (5, 3)</small>\n",
       "<thead>\n",
       "<tr>\n",
       "<th>\n",
       "session_type\n",
       "</th>\n",
       "<th>\n",
       "aid\n",
       "</th>\n",
       "<th>\n",
       "vote\n",
       "</th>\n",
       "</tr>\n",
       "<tr>\n",
       "<td>\n",
       "str\n",
       "</td>\n",
       "<td>\n",
       "str\n",
       "</td>\n",
       "<td>\n",
       "u8\n",
       "</td>\n",
       "</tr>\n",
       "</thead>\n",
       "<tbody>\n",
       "<tr>\n",
       "<td>\n",
       "&quot;14061476_carts...\n",
       "</td>\n",
       "<td>\n",
       "&quot;743431&quot;\n",
       "</td>\n",
       "<td>\n",
       "1\n",
       "</td>\n",
       "</tr>\n",
       "<tr>\n",
       "<td>\n",
       "&quot;14061476_carts...\n",
       "</td>\n",
       "<td>\n",
       "&quot;84110&quot;\n",
       "</td>\n",
       "<td>\n",
       "1\n",
       "</td>\n",
       "</tr>\n",
       "<tr>\n",
       "<td>\n",
       "&quot;14061476_carts...\n",
       "</td>\n",
       "<td>\n",
       "&quot;1267119&quot;\n",
       "</td>\n",
       "<td>\n",
       "1\n",
       "</td>\n",
       "</tr>\n",
       "<tr>\n",
       "<td>\n",
       "&quot;14061476_carts...\n",
       "</td>\n",
       "<td>\n",
       "&quot;536718&quot;\n",
       "</td>\n",
       "<td>\n",
       "1\n",
       "</td>\n",
       "</tr>\n",
       "<tr>\n",
       "<td>\n",
       "&quot;14061476_carts...\n",
       "</td>\n",
       "<td>\n",
       "&quot;1236804&quot;\n",
       "</td>\n",
       "<td>\n",
       "1\n",
       "</td>\n",
       "</tr>\n",
       "</tbody>\n",
       "</table>\n",
       "</div>"
      ],
      "text/plain": [
       "shape: (5, 3)\n",
       "┌────────────────┬─────────┬──────┐\n",
       "│ session_type   ┆ aid     ┆ vote │\n",
       "│ ---            ┆ ---     ┆ ---  │\n",
       "│ str            ┆ str     ┆ u8   │\n",
       "╞════════════════╪═════════╪══════╡\n",
       "│ 14061476_carts ┆ 743431  ┆ 1    │\n",
       "│ 14061476_carts ┆ 84110   ┆ 1    │\n",
       "│ 14061476_carts ┆ 1267119 ┆ 1    │\n",
       "│ 14061476_carts ┆ 536718  ┆ 1    │\n",
       "│ 14061476_carts ┆ 1236804 ┆ 1    │\n",
       "└────────────────┴─────────┴──────┘"
      ]
     },
     "execution_count": 5,
     "metadata": {},
     "output_type": "execute_result"
    }
   ],
   "source": [
    "subs = [read_sub(path) for path in paths]\n",
    "subs[0].head()"
   ]
  },
  {
   "cell_type": "markdown",
   "id": "8e68c408",
   "metadata": {
    "papermill": {
     "duration": 0.006156,
     "end_time": "2022-11-27T13:53:10.716784",
     "exception": false,
     "start_time": "2022-11-27T13:53:10.710628",
     "status": "completed"
    },
    "tags": []
   },
   "source": [
    "Concatenating and grouping won't work due to memory requirements. Our only option are the very efficient joins."
   ]
  },
  {
   "cell_type": "code",
   "execution_count": 7,
   "id": "26dfef3e",
   "metadata": {
    "execution": {
     "iopub.execute_input": "2022-11-27T13:53:10.731652Z",
     "iopub.status.busy": "2022-11-27T13:53:10.730931Z",
     "iopub.status.idle": "2022-11-27T13:56:48.821095Z",
     "shell.execute_reply": "2022-11-27T13:56:48.818871Z"
    },
    "papermill": {
     "duration": 218.114965,
     "end_time": "2022-11-27T13:56:48.838173",
     "exception": false,
     "start_time": "2022-11-27T13:53:10.723208",
     "status": "completed"
    },
    "tags": []
   },
   "outputs": [
    {
     "data": {
      "text/html": [
       "<div>\n",
       "<style scoped>\n",
       "    .dataframe tbody tr th:only-of-type {\n",
       "        vertical-align: middle;\n",
       "    }\n",
       "\n",
       "    .dataframe tbody tr th {\n",
       "        vertical-align: top;\n",
       "    }\n",
       "\n",
       "    .dataframe thead th {\n",
       "        text-align: right;\n",
       "    }\n",
       "\n",
       "    .dataframe td {\n",
       "        white-space: pre;\n",
       "    }\n",
       "\n",
       "    .dataframe td {\n",
       "        padding-top: 0;\n",
       "    }\n",
       "\n",
       "    .dataframe td {\n",
       "        padding-bottom: 0;\n",
       "    }\n",
       "</style>\n",
       "<table border=\"1\" class=\"dataframe\">\n",
       "<small>shape: (5, 4)</small>\n",
       "<thead>\n",
       "<tr>\n",
       "<th>\n",
       "session_type\n",
       "</th>\n",
       "<th>\n",
       "aid\n",
       "</th>\n",
       "<th>\n",
       "vote\n",
       "</th>\n",
       "<th>\n",
       "vote_right\n",
       "</th>\n",
       "</tr>\n",
       "<tr>\n",
       "<td>\n",
       "str\n",
       "</td>\n",
       "<td>\n",
       "str\n",
       "</td>\n",
       "<td>\n",
       "u8\n",
       "</td>\n",
       "<td>\n",
       "u8\n",
       "</td>\n",
       "</tr>\n",
       "</thead>\n",
       "<tbody>\n",
       "<tr>\n",
       "<td>\n",
       "&quot;14061476_carts...\n",
       "</td>\n",
       "<td>\n",
       "&quot;743431&quot;\n",
       "</td>\n",
       "<td>\n",
       "1\n",
       "</td>\n",
       "<td>\n",
       "null\n",
       "</td>\n",
       "</tr>\n",
       "<tr>\n",
       "<td>\n",
       "&quot;14061476_carts...\n",
       "</td>\n",
       "<td>\n",
       "&quot;84110&quot;\n",
       "</td>\n",
       "<td>\n",
       "1\n",
       "</td>\n",
       "<td>\n",
       "1\n",
       "</td>\n",
       "</tr>\n",
       "<tr>\n",
       "<td>\n",
       "&quot;14061476_carts...\n",
       "</td>\n",
       "<td>\n",
       "&quot;1267119&quot;\n",
       "</td>\n",
       "<td>\n",
       "1\n",
       "</td>\n",
       "<td>\n",
       "null\n",
       "</td>\n",
       "</tr>\n",
       "<tr>\n",
       "<td>\n",
       "&quot;14061476_carts...\n",
       "</td>\n",
       "<td>\n",
       "&quot;536718&quot;\n",
       "</td>\n",
       "<td>\n",
       "1\n",
       "</td>\n",
       "<td>\n",
       "null\n",
       "</td>\n",
       "</tr>\n",
       "<tr>\n",
       "<td>\n",
       "&quot;14061476_carts...\n",
       "</td>\n",
       "<td>\n",
       "&quot;1236804&quot;\n",
       "</td>\n",
       "<td>\n",
       "1\n",
       "</td>\n",
       "<td>\n",
       "1\n",
       "</td>\n",
       "</tr>\n",
       "</tbody>\n",
       "</table>\n",
       "</div>"
      ],
      "text/plain": [
       "shape: (5, 4)\n",
       "┌────────────────┬─────────┬──────┬────────────┐\n",
       "│ session_type   ┆ aid     ┆ vote ┆ vote_right │\n",
       "│ ---            ┆ ---     ┆ ---  ┆ ---        │\n",
       "│ str            ┆ str     ┆ u8   ┆ u8         │\n",
       "╞════════════════╪═════════╪══════╪════════════╡\n",
       "│ 14061476_carts ┆ 743431  ┆ 1    ┆ null       │\n",
       "│ 14061476_carts ┆ 84110   ┆ 1    ┆ 1          │\n",
       "│ 14061476_carts ┆ 1267119 ┆ 1    ┆ null       │\n",
       "│ 14061476_carts ┆ 536718  ┆ 1    ┆ null       │\n",
       "│ 14061476_carts ┆ 1236804 ┆ 1    ┆ 1          │\n",
       "└────────────────┴─────────┴──────┴────────────┘"
      ]
     },
     "execution_count": 7,
     "metadata": {},
     "output_type": "execute_result"
    }
   ],
   "source": [
    "#thry submission\n",
    "subs = subs[0].join(subs[1], how='outer', on=['session_type', 'aid']).join(subs[2], how='outer', on=['session_type', 'aid'], suffix='_right2')\n",
    "\n",
    "\n",
    "subs.head()"
   ]
  },
  {
   "cell_type": "markdown",
   "id": "f1c31693",
   "metadata": {
    "papermill": {
     "duration": 0.006683,
     "end_time": "2022-11-27T13:56:48.851801",
     "exception": false,
     "start_time": "2022-11-27T13:56:48.845118",
     "status": "completed"
    },
    "tags": []
   },
   "source": [
    "Let us fill in the `nulls`, sum the votes, and order the predictions so that predictions with more votes appear first."
   ]
  },
  {
   "cell_type": "code",
   "execution_count": 8,
   "id": "ff9d2057",
   "metadata": {
    "execution": {
     "iopub.execute_input": "2022-11-27T13:56:48.870031Z",
     "iopub.status.busy": "2022-11-27T13:56:48.868454Z",
     "iopub.status.idle": "2022-11-27T13:57:21.512876Z",
     "shell.execute_reply": "2022-11-27T13:57:21.511628Z"
    },
    "papermill": {
     "duration": 32.664367,
     "end_time": "2022-11-27T13:57:21.523328",
     "exception": false,
     "start_time": "2022-11-27T13:56:48.858961",
     "status": "completed"
    },
    "tags": []
   },
   "outputs": [
    {
     "ename": "NotFoundError",
     "evalue": "vote_right2",
     "output_type": "error",
     "traceback": [
      "\u001b[0;31m---------------------------------------------------------------------------\u001b[0m",
      "\u001b[0;31mNotFoundError\u001b[0m                             Traceback (most recent call last)",
      "\u001b[1;32m/Users/Artem_Boltaev/Documents/EPAM Projects/7. RecSys_OTTO_Kaggle/source_code/otto_recsys_kaggle/notebooks/ensemble.ipynb Cell 14\u001b[0m in \u001b[0;36m<cell line: 1>\u001b[0;34m()\u001b[0m\n\u001b[0;32m----> <a href='vscode-notebook-cell:/Users/Artem_Boltaev/Documents/EPAM%20Projects/7.%20RecSys_OTTO_Kaggle/source_code/otto_recsys_kaggle/notebooks/ensemble.ipynb#X16sZmlsZQ%3D%3D?line=0'>1</a>\u001b[0m subs \u001b[39m=\u001b[39m (subs\n\u001b[1;32m      <a href='vscode-notebook-cell:/Users/Artem_Boltaev/Documents/EPAM%20Projects/7.%20RecSys_OTTO_Kaggle/source_code/otto_recsys_kaggle/notebooks/ensemble.ipynb#X16sZmlsZQ%3D%3D?line=1'>2</a>\u001b[0m     \u001b[39m.\u001b[39;49mfill_null(\u001b[39m0\u001b[39;49m)\n\u001b[1;32m      <a href='vscode-notebook-cell:/Users/Artem_Boltaev/Documents/EPAM%20Projects/7.%20RecSys_OTTO_Kaggle/source_code/otto_recsys_kaggle/notebooks/ensemble.ipynb#X16sZmlsZQ%3D%3D?line=2'>3</a>\u001b[0m     \u001b[39m.\u001b[39;49mwith_column((pl\u001b[39m.\u001b[39;49mcol(\u001b[39m'\u001b[39;49m\u001b[39mvote\u001b[39;49m\u001b[39m'\u001b[39;49m) \u001b[39m+\u001b[39;49m pl\u001b[39m.\u001b[39;49mcol(\u001b[39m'\u001b[39;49m\u001b[39mvote_right\u001b[39;49m\u001b[39m'\u001b[39;49m) \u001b[39m+\u001b[39;49m pl\u001b[39m.\u001b[39;49mcol(\u001b[39m'\u001b[39;49m\u001b[39mvote_right2\u001b[39;49m\u001b[39m'\u001b[39;49m))\u001b[39m.\u001b[39;49malias(\u001b[39m'\u001b[39;49m\u001b[39mvote_sum\u001b[39;49m\u001b[39m'\u001b[39;49m))\n\u001b[1;32m      <a href='vscode-notebook-cell:/Users/Artem_Boltaev/Documents/EPAM%20Projects/7.%20RecSys_OTTO_Kaggle/source_code/otto_recsys_kaggle/notebooks/ensemble.ipynb#X16sZmlsZQ%3D%3D?line=3'>4</a>\u001b[0m     \u001b[39m.\u001b[39mdrop([\u001b[39m'\u001b[39m\u001b[39mvote\u001b[39m\u001b[39m'\u001b[39m, \u001b[39m'\u001b[39m\u001b[39mvote_right\u001b[39m\u001b[39m'\u001b[39m, \u001b[39m'\u001b[39m\u001b[39mvote_right2\u001b[39m\u001b[39m'\u001b[39m])\n\u001b[1;32m      <a href='vscode-notebook-cell:/Users/Artem_Boltaev/Documents/EPAM%20Projects/7.%20RecSys_OTTO_Kaggle/source_code/otto_recsys_kaggle/notebooks/ensemble.ipynb#X16sZmlsZQ%3D%3D?line=4'>5</a>\u001b[0m     \u001b[39m.\u001b[39msort(by\u001b[39m=\u001b[39m\u001b[39m'\u001b[39m\u001b[39mvote_sum\u001b[39m\u001b[39m'\u001b[39m)\n\u001b[1;32m      <a href='vscode-notebook-cell:/Users/Artem_Boltaev/Documents/EPAM%20Projects/7.%20RecSys_OTTO_Kaggle/source_code/otto_recsys_kaggle/notebooks/ensemble.ipynb#X16sZmlsZQ%3D%3D?line=5'>6</a>\u001b[0m     \u001b[39m.\u001b[39mreverse()\n\u001b[1;32m      <a href='vscode-notebook-cell:/Users/Artem_Boltaev/Documents/EPAM%20Projects/7.%20RecSys_OTTO_Kaggle/source_code/otto_recsys_kaggle/notebooks/ensemble.ipynb#X16sZmlsZQ%3D%3D?line=6'>7</a>\u001b[0m )\n\u001b[1;32m      <a href='vscode-notebook-cell:/Users/Artem_Boltaev/Documents/EPAM%20Projects/7.%20RecSys_OTTO_Kaggle/source_code/otto_recsys_kaggle/notebooks/ensemble.ipynb#X16sZmlsZQ%3D%3D?line=8'>9</a>\u001b[0m subs\u001b[39m.\u001b[39mhead()\n",
      "File \u001b[0;32m~/opt/anaconda3/lib/python3.9/site-packages/polars/internals/dataframe/frame.py:4206\u001b[0m, in \u001b[0;36mDataFrame.with_column\u001b[0;34m(self, column)\u001b[0m\n\u001b[1;32m   4165\u001b[0m \u001b[39mdef\u001b[39;00m \u001b[39mwith_column\u001b[39m(\u001b[39mself\u001b[39m, column: pli\u001b[39m.\u001b[39mSeries \u001b[39m|\u001b[39m pli\u001b[39m.\u001b[39mExpr) \u001b[39m-\u001b[39m\u001b[39m>\u001b[39m DataFrame:\n\u001b[1;32m   4166\u001b[0m     \u001b[39m\"\"\"\u001b[39;00m\n\u001b[1;32m   4167\u001b[0m \u001b[39m    Return a new DataFrame with the column added or replaced.\u001b[39;00m\n\u001b[1;32m   4168\u001b[0m \n\u001b[0;32m   (...)\u001b[0m\n\u001b[1;32m   4204\u001b[0m \n\u001b[1;32m   4205\u001b[0m \u001b[39m    \"\"\"\u001b[39;00m\n\u001b[0;32m-> 4206\u001b[0m     \u001b[39mreturn\u001b[39;00m \u001b[39mself\u001b[39;49m\u001b[39m.\u001b[39;49mlazy()\u001b[39m.\u001b[39;49mwith_column(column)\u001b[39m.\u001b[39;49mcollect(no_optimization\u001b[39m=\u001b[39;49m\u001b[39mTrue\u001b[39;49;00m)\n",
      "File \u001b[0;32m~/opt/anaconda3/lib/python3.9/site-packages/polars/utils.py:391\u001b[0m, in \u001b[0;36mdeprecated_alias.<locals>.deco.<locals>.wrapper\u001b[0;34m(*args, **kwargs)\u001b[0m\n\u001b[1;32m    388\u001b[0m \u001b[39m@functools\u001b[39m\u001b[39m.\u001b[39mwraps(fn)\n\u001b[1;32m    389\u001b[0m \u001b[39mdef\u001b[39;00m \u001b[39mwrapper\u001b[39m(\u001b[39m*\u001b[39margs: P\u001b[39m.\u001b[39margs, \u001b[39m*\u001b[39m\u001b[39m*\u001b[39mkwargs: P\u001b[39m.\u001b[39mkwargs) \u001b[39m-\u001b[39m\u001b[39m>\u001b[39m T:\n\u001b[1;32m    390\u001b[0m     _rename_kwargs(fn\u001b[39m.\u001b[39m\u001b[39m__name__\u001b[39m, kwargs, aliases)\n\u001b[0;32m--> 391\u001b[0m     \u001b[39mreturn\u001b[39;00m fn(\u001b[39m*\u001b[39;49margs, \u001b[39m*\u001b[39;49m\u001b[39m*\u001b[39;49mkwargs)\n",
      "File \u001b[0;32m~/opt/anaconda3/lib/python3.9/site-packages/polars/internals/lazyframe/frame.py:1165\u001b[0m, in \u001b[0;36mLazyFrame.collect\u001b[0;34m(self, type_coercion, predicate_pushdown, projection_pushdown, simplify_expression, no_optimization, slice_pushdown, common_subplan_elimination, streaming)\u001b[0m\n\u001b[1;32m   1154\u001b[0m     common_subplan_elimination \u001b[39m=\u001b[39m \u001b[39mFalse\u001b[39;00m\n\u001b[1;32m   1156\u001b[0m ldf \u001b[39m=\u001b[39m \u001b[39mself\u001b[39m\u001b[39m.\u001b[39m_ldf\u001b[39m.\u001b[39moptimization_toggle(\n\u001b[1;32m   1157\u001b[0m     type_coercion,\n\u001b[1;32m   1158\u001b[0m     predicate_pushdown,\n\u001b[0;32m   (...)\u001b[0m\n\u001b[1;32m   1163\u001b[0m     streaming,\n\u001b[1;32m   1164\u001b[0m )\n\u001b[0;32m-> 1165\u001b[0m \u001b[39mreturn\u001b[39;00m pli\u001b[39m.\u001b[39mwrap_df(ldf\u001b[39m.\u001b[39;49mcollect())\n",
      "\u001b[0;31mNotFoundError\u001b[0m: vote_right2"
     ]
    }
   ],
   "source": [
    "subs = (subs\n",
    "    .fill_null(0)\n",
    "    .with_column((pl.col('vote') + pl.col('vote_right') + pl.col('vote_right2')).alias('vote_sum'))\n",
    "    .drop(['vote', 'vote_right', 'vote_right2'])\n",
    "    .sort(by='vote_sum')\n",
    "    .reverse()\n",
    ")\n",
    "\n",
    "subs.head()"
   ]
  },
  {
   "cell_type": "markdown",
   "id": "fe61dfe1",
   "metadata": {
    "papermill": {
     "duration": 0.007076,
     "end_time": "2022-11-27T13:57:21.537385",
     "exception": false,
     "start_time": "2022-11-27T13:57:21.530309",
     "status": "completed"
    },
    "tags": []
   },
   "source": [
    "All we have to do now is take the first 20 predictions per `session_type` and turn them into a space seperated string."
   ]
  },
  {
   "cell_type": "code",
   "execution_count": null,
   "id": "3f37090d",
   "metadata": {
    "execution": {
     "iopub.execute_input": "2022-11-27T13:57:21.553589Z",
     "iopub.status.busy": "2022-11-27T13:57:21.553133Z",
     "iopub.status.idle": "2022-11-27T14:05:46.130319Z",
     "shell.execute_reply": "2022-11-27T14:05:46.128899Z"
    },
    "papermill": {
     "duration": 504.590536,
     "end_time": "2022-11-27T14:05:46.134996",
     "exception": false,
     "start_time": "2022-11-27T13:57:21.544460",
     "status": "completed"
    },
    "tags": []
   },
   "outputs": [],
   "source": [
    "preds = subs.groupby('session_type').agg([\n",
    "    pl.col('aid').head(20).alias('labels')\n",
    "])\n",
    "\n",
    "preds = preds.with_column(pl.col('labels').apply(lambda lst: ' '.join([str(aid) for aid in lst])))"
   ]
  },
  {
   "cell_type": "markdown",
   "id": "943955bd",
   "metadata": {
    "papermill": {
     "duration": 0.006878,
     "end_time": "2022-11-27T14:05:46.150637",
     "exception": false,
     "start_time": "2022-11-27T14:05:46.143759",
     "status": "completed"
    },
    "tags": []
   },
   "source": [
    "We have created a standard voting ensemble and are now ready to output the submission file!"
   ]
  },
  {
   "cell_type": "code",
   "execution_count": null,
   "id": "17bd7358",
   "metadata": {
    "execution": {
     "iopub.execute_input": "2022-11-27T14:05:46.167784Z",
     "iopub.status.busy": "2022-11-27T14:05:46.167120Z",
     "iopub.status.idle": "2022-11-27T14:05:47.597061Z",
     "shell.execute_reply": "2022-11-27T14:05:47.595746Z"
    },
    "papermill": {
     "duration": 1.441735,
     "end_time": "2022-11-27T14:05:47.599758",
     "exception": false,
     "start_time": "2022-11-27T14:05:46.158023",
     "status": "completed"
    },
    "tags": []
   },
   "outputs": [
    {
     "name": "stdout",
     "output_type": "stream",
     "text": [
      "CPU times: user 2.07 s, sys: 899 ms, total: 2.97 s\n",
      "Wall time: 1.77 s\n"
     ]
    }
   ],
   "source": [
    "%%time\n",
    "\n",
    "preds.write_csv('submission.csv')"
   ]
  },
  {
   "cell_type": "markdown",
   "id": "b4b4828a",
   "metadata": {
    "papermill": {
     "duration": 0.006869,
     "end_time": "2022-11-27T14:05:47.614326",
     "exception": false,
     "start_time": "2022-11-27T14:05:47.607457",
     "status": "completed"
    },
    "tags": []
   },
   "source": [
    "Voting ensemble is often a great way to go. However, sometimes we might want to weight our submissions. Say, we want to give more weight to the submission that performs better.\n",
    "\n",
    "How would we do it?\n",
    "\n",
    "We already have all the pieces 🙂\n",
    "\n",
    "When reading the submissions, all you have to do is specify the weight associated with each one using the `read_sub` function, for instance we could do something like this:\n",
    "\n",
    "`subs = [read_sub(path, weight) for path, weight in zip(paths, [1, 0.55, 0.55])]`\n",
    "\n",
    "And that's it!"
   ]
  },
  {
   "cell_type": "markdown",
   "id": "fcc03f2f",
   "metadata": {
    "papermill": {
     "duration": 0.007426,
     "end_time": "2022-11-27T14:05:47.628895",
     "exception": false,
     "start_time": "2022-11-27T14:05:47.621469",
     "status": "completed"
    },
    "tags": []
   },
   "source": [
    "## Summary\n",
    "\n",
    "We now have a way to perfom voting ensemble (including using custom weights) even within the limits of a Kaggle VM! Ensembling will certainly be a major component of strong submissions.\n",
    "\n",
    "**If you enjoyed this notebook, please upvote! 🙏 Thank you!**\n",
    "\n",
    "Thank you for reading, happy Kaggling! 🙂"
   ]
  }
 ],
 "metadata": {
  "kernelspec": {
   "display_name": "base",
   "language": "python",
   "name": "python3"
  },
  "language_info": {
   "codemirror_mode": {
    "name": "ipython",
    "version": 3
   },
   "file_extension": ".py",
   "mimetype": "text/x-python",
   "name": "python",
   "nbconvert_exporter": "python",
   "pygments_lexer": "ipython3",
   "version": "3.9.12"
  },
  "papermill": {
   "default_parameters": {},
   "duration": 844.472754,
   "end_time": "2022-11-27T14:05:49.570703",
   "environment_variables": {},
   "exception": null,
   "input_path": "__notebook__.ipynb",
   "output_path": "__notebook__.ipynb",
   "parameters": {},
   "start_time": "2022-11-27T13:51:45.097949",
   "version": "2.3.4"
  },
  "vscode": {
   "interpreter": {
    "hash": "5f66966e931fc4ac787e20e3fb1743ecad89abfd01a532fa0096792975cac6b8"
   }
  }
 },
 "nbformat": 4,
 "nbformat_minor": 5
}
