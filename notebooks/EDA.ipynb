{
 "cells": [
  {
   "attachments": {},
   "cell_type": "markdown",
   "metadata": {},
   "source": [
    "## 0.Import modules"
   ]
  },
  {
   "cell_type": "code",
   "execution_count": 1,
   "metadata": {},
   "outputs": [],
   "source": [
    "import pandas as pd\n",
    "from pathlib import Path\n",
    "import os\n",
    "import random\n",
    "import numpy as np\n",
    "import json\n",
    "from datetime import timedelta\n",
    "from collections import Counter\n",
    "from tqdm.notebook import tqdm\n",
    "from heapq import nlargest\n",
    "\n",
    "import matplotlib.pyplot as plt\n",
    "import seaborn as sns\n",
    "sns.set_theme()\n",
    "\n",
    "import warnings\n",
    "warnings.filterwarnings('ignore')\n",
    "\n",
    "from pandas_profiling import ProfileReport\n",
    "from sklearn.preprocessing import OrdinalEncoder"
   ]
  },
  {
   "attachments": {},
   "cell_type": "markdown",
   "metadata": {},
   "source": [
    "Description\n",
    "\n",
    "The aim of this competition is to predict e-commerce clicks, cart additions, and orders.\n",
    "You'll build a multi-objective recommender system based on previous events in a user session."
   ]
  },
  {
   "attachments": {},
   "cell_type": "markdown",
   "metadata": {},
   "source": [
    "## 1.Load data"
   ]
  },
  {
   "cell_type": "code",
   "execution_count": 2,
   "metadata": {},
   "outputs": [],
   "source": [
    "### Paths ###\n",
    "DATA_PATH = Path('../data')\n",
    "TRAIN_RAW_PATH = DATA_PATH/'raw/train.jsonl'\n",
    "TEST_RAW_PATH = DATA_PATH/'raw/test.jsonl'\n",
    "SAMPLE_SUBMISSION_RAW_PATH = DATA_PATH/'raw/sample_submission.csv'\n",
    "\n",
    "DATA_PROCESSED_PATH = DATA_PATH/'processed'"
   ]
  },
  {
   "attachments": {},
   "cell_type": "markdown",
   "metadata": {},
   "source": [
    "## 2.Convert json to pandas dataframe"
   ]
  },
  {
   "cell_type": "code",
   "execution_count": null,
   "metadata": {},
   "outputs": [
    {
     "data": {
      "text/plain": [
       "(['clicks', 'carts', 'orders'], {'clicks': 0, 'carts': 1, 'orders': 2})"
      ]
     },
     "execution_count": 9,
     "metadata": {},
     "output_type": "execute_result"
    }
   ],
   "source": [
    "#Radek Osmulski's code\n",
    "\n",
    "id2type = ['clicks', 'carts', 'orders']\n",
    "type2id = {t: i for i, t in enumerate(id2type)}\n",
    "\n",
    "id2type, type2id"
   ]
  },
  {
   "cell_type": "code",
   "execution_count": null,
   "metadata": {},
   "outputs": [],
   "source": [
    "pd.to_pickle(id2type, 'id2type.pkl')\n",
    "pd.to_pickle(type2id, 'type2id.pkl')"
   ]
  },
  {
   "cell_type": "code",
   "execution_count": 11,
   "metadata": {},
   "outputs": [],
   "source": [
    "def jsonl_to_df(path, chunk_size):\n",
    "    \"\"\"Load a jsonl file into a pandas dataframe\"\"\"\n",
    "    sessions = []\n",
    "    aids = []\n",
    "    tss = []\n",
    "    types = []\n",
    "\n",
    "    chunks = pd.read_json(path, lines=True, chunksize = chunk_size)\n",
    "\n",
    "    for chunk in tqdm(chunks):\n",
    "        for row_idx, session_data in chunk.iterrows():\n",
    "            num_events = len(session_data.events)\n",
    "            sessions += ([session_data.session] * num_events)\n",
    "            for event in session_data.events:\n",
    "                aids.append(event['aid'])\n",
    "                tss.append(event['ts'])\n",
    "                types.append(type2id[event['type']])\n",
    "\n",
    "\n",
    "    return pd.DataFrame(data = ({'session': sessions, 'aid': aids, 'ts': tss, 'type': types}))"
   ]
  },
  {
   "cell_type": "code",
   "execution_count": 12,
   "metadata": {},
   "outputs": [
    {
     "data": {
      "application/vnd.jupyter.widget-view+json": {
       "model_id": "d63b44f7ef0441bdbd3717abdcc7877d",
       "version_major": 2,
       "version_minor": 0
      },
      "text/plain": [
       "0it [00:00, ?it/s]"
      ]
     },
     "metadata": {},
     "output_type": "display_data"
    }
   ],
   "source": [
    "train_df = jsonl_to_df(TRAIN_RAW_PATH, 100000)\n",
    "train_df.type = train_df.type.astype(np.uint8)\n",
    "train_df.to_parquet(DATA_PROCESSED_PATH/'train.parquet', index=False)\n",
    "#train_df.to_csv(DATA_PROCESSED_PATH/'train.csv', index=False)"
   ]
  },
  {
   "cell_type": "code",
   "execution_count": 13,
   "metadata": {},
   "outputs": [
    {
     "data": {
      "application/vnd.jupyter.widget-view+json": {
       "model_id": "e27872d2952042979362b94cc1705481",
       "version_major": 2,
       "version_minor": 0
      },
      "text/plain": [
       "0it [00:00, ?it/s]"
      ]
     },
     "metadata": {},
     "output_type": "display_data"
    }
   ],
   "source": [
    "test_df = jsonl_to_df(TEST_RAW_PATH, 100000)\n",
    "test_df.type = test_df.type.astype(np.uint8)\n",
    "test_df.to_parquet(DATA_PROCESSED_PATH/'test.parquet', index=False)\n",
    "#test_df.to_csv(DATA_PROCESSED_PATH/'test.csv', index=False)"
   ]
  },
  {
   "cell_type": "code",
   "execution_count": 5,
   "metadata": {},
   "outputs": [],
   "source": [
    "#load raw data\n",
    "#train_df = pd.read_parquet(DATA_PROCESSED_PATH/'train.parquet')\n",
    "#test_df = pd.read_parquet(DATA_PROCESSED_PATH/'test.parquet')"
   ]
  },
  {
   "cell_type": "code",
   "execution_count": 6,
   "metadata": {},
   "outputs": [
    {
     "data": {
      "text/html": [
       "<div>\n",
       "<style scoped>\n",
       "    .dataframe tbody tr th:only-of-type {\n",
       "        vertical-align: middle;\n",
       "    }\n",
       "\n",
       "    .dataframe tbody tr th {\n",
       "        vertical-align: top;\n",
       "    }\n",
       "\n",
       "    .dataframe thead th {\n",
       "        text-align: right;\n",
       "    }\n",
       "</style>\n",
       "<table border=\"1\" class=\"dataframe\">\n",
       "  <thead>\n",
       "    <tr style=\"text-align: right;\">\n",
       "      <th></th>\n",
       "      <th>session</th>\n",
       "      <th>aid</th>\n",
       "      <th>ts</th>\n",
       "      <th>type</th>\n",
       "    </tr>\n",
       "  </thead>\n",
       "  <tbody>\n",
       "    <tr>\n",
       "      <th>0</th>\n",
       "      <td>12899779</td>\n",
       "      <td>59625</td>\n",
       "      <td>1661724000278</td>\n",
       "      <td>0</td>\n",
       "    </tr>\n",
       "    <tr>\n",
       "      <th>1</th>\n",
       "      <td>12899780</td>\n",
       "      <td>1142000</td>\n",
       "      <td>1661724000378</td>\n",
       "      <td>0</td>\n",
       "    </tr>\n",
       "    <tr>\n",
       "      <th>2</th>\n",
       "      <td>12899780</td>\n",
       "      <td>582732</td>\n",
       "      <td>1661724058352</td>\n",
       "      <td>0</td>\n",
       "    </tr>\n",
       "    <tr>\n",
       "      <th>3</th>\n",
       "      <td>12899780</td>\n",
       "      <td>973453</td>\n",
       "      <td>1661724109199</td>\n",
       "      <td>0</td>\n",
       "    </tr>\n",
       "    <tr>\n",
       "      <th>4</th>\n",
       "      <td>12899780</td>\n",
       "      <td>736515</td>\n",
       "      <td>1661724136868</td>\n",
       "      <td>0</td>\n",
       "    </tr>\n",
       "  </tbody>\n",
       "</table>\n",
       "</div>"
      ],
      "text/plain": [
       "    session      aid             ts  type\n",
       "0  12899779    59625  1661724000278     0\n",
       "1  12899780  1142000  1661724000378     0\n",
       "2  12899780   582732  1661724058352     0\n",
       "3  12899780   973453  1661724109199     0\n",
       "4  12899780   736515  1661724136868     0"
      ]
     },
     "execution_count": 6,
     "metadata": {},
     "output_type": "execute_result"
    }
   ],
   "source": [
    "test_df.head()"
   ]
  },
  {
   "cell_type": "code",
   "execution_count": 16,
   "metadata": {},
   "outputs": [],
   "source": [
    "#Find real sessions train\n",
    "gap_beetwen_sessions = 1000*60*60*2\n",
    "\n",
    "train_df = train_df.sort_values(['session','ts'])\n",
    "train_df['session_real'] = train_df.groupby('session').ts.diff()\n",
    "train_df.session_real = (train_df.session_real > gap_beetwen_sessions).astype('int8').fillna(0)\n",
    "train_df['session_real'] = train_df.groupby('session').session_real.cumsum()\n",
    "train_df['num_session_real'] = train_df.groupby('session').session_real.transform('max')\n",
    "train_df['session_real_id'] = train_df.session.astype(str) + '_' + train_df.session_real.astype(str)"
   ]
  },
  {
   "cell_type": "code",
   "execution_count": 8,
   "metadata": {},
   "outputs": [],
   "source": [
    "#Find real sessions test\n",
    "\n",
    "\n",
    "test_df = test_df.sort_values(['session','ts'])\n",
    "test_df['session_real'] = test_df.groupby('session').ts.diff()\n",
    "test_df.session_real = (test_df.session_real > gap_beetwen_sessions).astype('int8').fillna(0)\n",
    "test_df['session_real'] = test_df.groupby('session').session_real.cumsum()\n",
    "test_df['num_session_real'] = test_df.groupby('session').session_real.transform('max')\n",
    "test_df['session_real_id'] = test_df.session.astype(str) + '_' + test_df.session_real.astype(str)"
   ]
  },
  {
   "attachments": {},
   "cell_type": "markdown",
   "metadata": {},
   "source": [
    "## 3.EDA"
   ]
  },
  {
   "attachments": {},
   "cell_type": "markdown",
   "metadata": {},
   "source": [
    "Insights\n",
    "\n",
    "1. We observe many patterns above. Most users exhibit regular behavior. They click, cart and order at the same hours each day. Also most users like to shop on the same days of the each week. Most users are active during the waking hours of day but some users like to shop during the night while others are sleeping. We also notice that users shop in clusters of activity. Our challenge in this competition is that we must both predict the remainder of the last cluster (provided in test data) and predict new clusters (after last timestamp in test). Furthermore all users in test data (not displayed in this notebook) have less than 1 week data, so we must predict user behavior given little user history information (i.e. the RecSys \"cold start\" problem). Understanding users and their behavior will help us predict test users' future behavior!\n",
    "\n",
    "2. Train Event Number Summary per Session {'mean': 16.799985178040647, 'min': 2, 'max': 500, 'count': 12899779}\n",
    "\n",
    "3. Test Event Number Summary per Session {'mean': 4.144102504900398, 'min': 1, 'max': 458, 'count': 1671803}\n",
    "\n",
    "3.1.\n",
    "216.7M events in training set and 6.9M events in test set\n",
    "12.8M sessions in training set and 1.6M sessions in test set\n",
    "1.8M products in training set and 783K products in test set\n",
    "194.7M clicks in training set and 6.2M clicks in test set\n",
    "16.8M carts in training set and 570K carts in test set\n",
    "5M orders in training set and 65K orders in test set\n",
    "\n",
    "4. Train Percent of Sessions in Terms of Event Numbers\n",
    "<10 events: 0.6391379263164121 \n",
    "<50 events: 0.9246156077557608 \n",
    "<150 events: 0.9861470494959642 \n",
    "150 events or more: 0.013852950504035767\n",
    "\n",
    "5. Test Percent of Sessions in Terms of Event Numbers\n",
    "<10 events: 0.9071541323947857 \n",
    "<50 events: 0.9947140901170772 \n",
    "<150 events: 0.9997308295295558 \n",
    "150 events or more: 0.0002691704704441851\n",
    "\n",
    "6. The session length is much smaller, with an average of 4 events (~3 times smaller than for train)\n",
    "\n",
    "7. \ttype\tData\tCount\n",
    "0\t0\ttrain\t89.850714\n",
    "1\t1\ttrain\t7.796464\n",
    "2\t2\ttrain\t2.352825\n",
    "3\t0\ttest\t90.827371\n",
    "4\t1\ttest\t8.227495\n",
    "5\t2\ttest\t0.945133\n",
    "\n",
    "8. There are 1,671,803 unique sessions (a session ~ a user)\n",
    "\n",
    "9. There are 12,899,779 unique sessions (a session ~ a user) in the train data\n",
    "\n",
    "10. \n",
    "unique event count:\n",
    "for train:\n",
    "70% of sessions have only 1 event type\n",
    "17% of sessions have 2 event types\n",
    "12% of sessions have all 3 event types\n",
    "for test:\n",
    "85% of sessions have only 1 event type (much higher than for train)\n",
    "12% of sessions have 2 event types\n",
    "1% of sessions have all 3 event types (much lower than for train - as number of orders in test is also much lower)\n",
    "\n",
    "11. \n",
    "Start Train: 2022-07-31 22:00:00 \n",
    "Finish Train: 2022-08-28 21:59:59 \n",
    "Start Test: 2022-08-28 22:00:00 \n",
    "Finish Test: 2022-09-04 21:59:51\n",
    "\n",
    "12. Looks like Sundays are the most active days of the month, with the highest activity happening then! There is somewhat of a pattern of \"lazy\" Mondays and a decend in activity until Thursday, with Friday beginning to surge again with the peak on Sunday.\n",
    "\n",
    "13. \n",
    "~45% of sessions have registered activity in less than 1 day. Which means more than half of the sessions have activity on 1 or multiple days!\n",
    "for the rest it looks like it's an even 10%:\n",
    "~10% of sessions have registered activity for 5->10 days\n",
    "~10% of sessions have registered activity for 10->15 days\n",
    "~10% of sessions have registered activity for 15->20 days\n",
    "~10% of sessions have registered activity for 20->25 days\n",
    "we have some strong outliers too, with ~4% of sessions having 25+ days of registered activity\n",
    "\n",
    "14. \n",
    "train: 1,855,603 unique products\n",
    "test: 783,486 unique products\n",
    "there is no product in the test set that doesn't appear at least once in the train set\n",
    "\n",
    "15. Vast majority (62% in train) of products are seen less than 30 times within the dataset. There are however some pretty strong outliers.\n",
    "\n",
    "16. \n",
    "So there are quite a few products that appear in both Train and Test when looking at top 25 prods with most event types:\n",
    "CLICKS: {'108125', '554660', '832192', '184976', '29735', '986164', '1460571', '485256'}\n",
    "CARTS: {'33343', '152547', '554660', '832192', '29735', '258353', '986164', '544144', '1022566', '332654', '1462420', '1460571', '166037', '485256'}\n",
    "ORDERS: {'923948', '29735', '1022566', '986164', '544144', '332654', '166037'}\n",
    "\n",
    "On first glance (top 25 products) they do. 9/25 top products (with most interactions) appear in Train and Test (looking at the overall engagement). For \"add to cart\" the similarity is even stronger, with 14/25 aids being in boths Train and Test.\n",
    "\n",
    "17. Only less than 10% of products have more than 10% from max clicks, carts and orders. This means that most products have very few interactions. We can decrease the number of products by filtering out products with less than 10% of max clicks, carts and orders.\n",
    "\n",
    "18. But we dont have 2-4 product wich have much more interactions than others.\n",
    "\n",
    "19. In test almost 70$ users have one session. In train 10% users have one session.\n",
    "\n",
    "20. Lenght distribution by session\n",
    "0.1      1.0\n",
    "0.2      2.0\n",
    "0.3      3.0\n",
    "0.4      5.0\n",
    "0.5      7.0\n",
    "0.6     10.0\n",
    "0.7     14.0\n",
    "0.8     22.0\n",
    "0.9     37.0\n",
    "1.0    433.0\n",
    "\n",
    "21. In test 80% uniq sessions have one unic item. In train - 20$\n",
    "\n",
    "22. Almost 70% users have 1-2 unique items interactions. In train - 30%.\n",
    "\n",
    "23. For users with one unique session and one unique product we have almost only clicks. 1485818 clicks, 14642 carts, 3043 orders.\n",
    "\n",
    "\n",
    "\n"
   ]
  },
  {
   "attachments": {},
   "cell_type": "markdown",
   "metadata": {},
   "source": [
    "### 3.0 EDA for data sample"
   ]
  },
  {
   "cell_type": "code",
   "execution_count": 9,
   "metadata": {},
   "outputs": [
    {
     "data": {
      "text/html": [
       "<div>\n",
       "<style scoped>\n",
       "    .dataframe tbody tr th:only-of-type {\n",
       "        vertical-align: middle;\n",
       "    }\n",
       "\n",
       "    .dataframe tbody tr th {\n",
       "        vertical-align: top;\n",
       "    }\n",
       "\n",
       "    .dataframe thead th {\n",
       "        text-align: right;\n",
       "    }\n",
       "</style>\n",
       "<table border=\"1\" class=\"dataframe\">\n",
       "  <thead>\n",
       "    <tr style=\"text-align: right;\">\n",
       "      <th></th>\n",
       "      <th>events</th>\n",
       "    </tr>\n",
       "    <tr>\n",
       "      <th>session</th>\n",
       "      <th></th>\n",
       "    </tr>\n",
       "  </thead>\n",
       "  <tbody>\n",
       "    <tr>\n",
       "      <th>0</th>\n",
       "      <td>[{'aid': 1517085, 'ts': 1659304800025, 'type':...</td>\n",
       "    </tr>\n",
       "    <tr>\n",
       "      <th>1</th>\n",
       "      <td>[{'aid': 424964, 'ts': 1659304800025, 'type': ...</td>\n",
       "    </tr>\n",
       "    <tr>\n",
       "      <th>2</th>\n",
       "      <td>[{'aid': 763743, 'ts': 1659304800038, 'type': ...</td>\n",
       "    </tr>\n",
       "    <tr>\n",
       "      <th>3</th>\n",
       "      <td>[{'aid': 1425967, 'ts': 1659304800095, 'type':...</td>\n",
       "    </tr>\n",
       "    <tr>\n",
       "      <th>4</th>\n",
       "      <td>[{'aid': 613619, 'ts': 1659304800119, 'type': ...</td>\n",
       "    </tr>\n",
       "  </tbody>\n",
       "</table>\n",
       "</div>"
      ],
      "text/plain": [
       "                                                    events\n",
       "session                                                   \n",
       "0        [{'aid': 1517085, 'ts': 1659304800025, 'type':...\n",
       "1        [{'aid': 424964, 'ts': 1659304800025, 'type': ...\n",
       "2        [{'aid': 763743, 'ts': 1659304800038, 'type': ...\n",
       "3        [{'aid': 1425967, 'ts': 1659304800095, 'type':...\n",
       "4        [{'aid': 613619, 'ts': 1659304800119, 'type': ..."
      ]
     },
     "execution_count": 9,
     "metadata": {},
     "output_type": "execute_result"
    }
   ],
   "source": [
    "sample_train_df.set_index('session', drop=True, inplace=True)\n",
    "sample_train_df.head()"
   ]
  },
  {
   "cell_type": "code",
   "execution_count": 1,
   "metadata": {},
   "outputs": [
    {
     "ename": "NameError",
     "evalue": "name 'sample_train_df' is not defined",
     "output_type": "error",
     "traceback": [
      "\u001b[0;31m---------------------------------------------------------------------------\u001b[0m",
      "\u001b[0;31mNameError\u001b[0m                                 Traceback (most recent call last)",
      "\u001b[1;32m/Users/Artem_Boltaev/Documents/EPAM Projects/7. RecSys_OTTO_Kaggle/source_code/otto_recsys_kaggle/notebooks/EDA.ipynb Cell 22\u001b[0m in \u001b[0;36m<cell line: 4>\u001b[0;34m()\u001b[0m\n\u001b[1;32m      <a href='vscode-notebook-cell:/Users/Artem_Boltaev/Documents/EPAM%20Projects/7.%20RecSys_OTTO_Kaggle/source_code/otto_recsys_kaggle/notebooks/EDA.ipynb#X30sZmlsZQ%3D%3D?line=0'>1</a>\u001b[0m \u001b[39m# Let's look at an example session and print out some basic info\u001b[39;00m\n\u001b[1;32m      <a href='vscode-notebook-cell:/Users/Artem_Boltaev/Documents/EPAM%20Projects/7.%20RecSys_OTTO_Kaggle/source_code/otto_recsys_kaggle/notebooks/EDA.ipynb#X30sZmlsZQ%3D%3D?line=1'>2</a>\u001b[0m \n\u001b[1;32m      <a href='vscode-notebook-cell:/Users/Artem_Boltaev/Documents/EPAM%20Projects/7.%20RecSys_OTTO_Kaggle/source_code/otto_recsys_kaggle/notebooks/EDA.ipynb#X30sZmlsZQ%3D%3D?line=2'>3</a>\u001b[0m \u001b[39m# Sample the first session in the df\u001b[39;00m\n\u001b[0;32m----> <a href='vscode-notebook-cell:/Users/Artem_Boltaev/Documents/EPAM%20Projects/7.%20RecSys_OTTO_Kaggle/source_code/otto_recsys_kaggle/notebooks/EDA.ipynb#X30sZmlsZQ%3D%3D?line=3'>4</a>\u001b[0m example_session \u001b[39m=\u001b[39m sample_train_df\u001b[39m.\u001b[39miloc[\u001b[39m0\u001b[39m]\u001b[39m.\u001b[39mitem()\n\u001b[1;32m      <a href='vscode-notebook-cell:/Users/Artem_Boltaev/Documents/EPAM%20Projects/7.%20RecSys_OTTO_Kaggle/source_code/otto_recsys_kaggle/notebooks/EDA.ipynb#X30sZmlsZQ%3D%3D?line=4'>5</a>\u001b[0m \u001b[39mprint\u001b[39m(\u001b[39mf\u001b[39m\u001b[39m'\u001b[39m\u001b[39mThis session was \u001b[39m\u001b[39m{\u001b[39;00m\u001b[39mlen\u001b[39m(example_session)\u001b[39m}\u001b[39;00m\u001b[39m actions long \u001b[39m\u001b[39m\\n\u001b[39;00m\u001b[39m'\u001b[39m)\n\u001b[1;32m      <a href='vscode-notebook-cell:/Users/Artem_Boltaev/Documents/EPAM%20Projects/7.%20RecSys_OTTO_Kaggle/source_code/otto_recsys_kaggle/notebooks/EDA.ipynb#X30sZmlsZQ%3D%3D?line=5'>6</a>\u001b[0m \u001b[39mprint\u001b[39m(\u001b[39mf\u001b[39m\u001b[39m'\u001b[39m\u001b[39mThe first action in the session: \u001b[39m\u001b[39m\\n\u001b[39;00m\u001b[39m \u001b[39m\u001b[39m{\u001b[39;00mexample_session[\u001b[39m0\u001b[39m]\u001b[39m}\u001b[39;00m\u001b[39m \u001b[39m\u001b[39m\\n\u001b[39;00m\u001b[39m'\u001b[39m)\n",
      "\u001b[0;31mNameError\u001b[0m: name 'sample_train_df' is not defined"
     ]
    }
   ],
   "source": [
    "# Let's look at an example session and print out some basic info\n",
    "\n",
    "# Sample the first session in the df\n",
    "example_session = sample_train_df.iloc[0].item()\n",
    "print(f'This session was {len(example_session)} actions long \\n')\n",
    "print(f'The first action in the session: \\n {example_session[0]} \\n')\n",
    "\n",
    "# Time of session\n",
    "time_elapsed = example_session[-1][\"ts\"] - example_session[0][\"ts\"]\n",
    "# The timestamp is in milliseconds since 00:00:00 UTC on 1 January 1970\n",
    "print(f'The first session elapsed: {str(timedelta(milliseconds=time_elapsed))} \\n')\n",
    "\n",
    "# Count the frequency of actions within the session\n",
    "action_counts = {}\n",
    "for action in example_session:\n",
    "    action_counts[action['type']] = action_counts.get(action['type'], 0) + 1  \n",
    "print(f'The first session contains the following frequency of actions: {action_counts}')"
   ]
  },
  {
   "cell_type": "code",
   "execution_count": 14,
   "metadata": {},
   "outputs": [
    {
     "data": {
      "application/vnd.jupyter.widget-view+json": {
       "model_id": "cb98ba5b105f4f108273ef6b447f04a6",
       "version_major": 2,
       "version_minor": 0
      },
      "text/plain": [
       "  0%|          | 0/150000 [00:00<?, ?it/s]"
      ]
     },
     "metadata": {},
     "output_type": "display_data"
    }
   ],
   "source": [
    "### Extract information from each session and add it to the df ###\n",
    "\n",
    "action_counts_list, article_id_counts_list, session_length_time_list, session_length_action_list = ([] for i in range(4))\n",
    "overall_action_counts = {}\n",
    "overall_article_id_counts = {}\n",
    "\n",
    "for i, row in tqdm(sample_train_df.iterrows(), total=len(sample_train_df)):\n",
    "    \n",
    "    actions = row['events']\n",
    "    \n",
    "    # Get the frequency of actions and article_ids\n",
    "    action_counts = {}\n",
    "    article_id_counts = {}\n",
    "    for action in actions:\n",
    "        action_counts[action['type']] = action_counts.get(action['type'], 0) + 1\n",
    "        article_id_counts[action['aid']] = article_id_counts.get(action['aid'], 0) + 1\n",
    "        overall_action_counts[action['type']] = overall_action_counts.get(action['type'], 0) + 1\n",
    "        overall_article_id_counts[action['aid']] = overall_article_id_counts.get(action['aid'], 0) + 1\n",
    "        \n",
    "    # Get the length of the session\n",
    "    session_length_time = actions[-1]['ts'] - actions[0]['ts']\n",
    "    \n",
    "    # Add to list\n",
    "    action_counts_list.append(action_counts)\n",
    "    article_id_counts_list.append(article_id_counts)\n",
    "    session_length_time_list.append(session_length_time)\n",
    "    session_length_action_list.append(len(actions))\n",
    "    \n",
    "sample_train_df['action_counts'] = action_counts_list\n",
    "sample_train_df['article_id_counts'] = article_id_counts_list\n",
    "sample_train_df['session_length_unix'] = session_length_time_list\n",
    "sample_train_df['session_length_hours'] = sample_train_df['session_length_unix']*2.77778e-7  # Convert to hours\n",
    "sample_train_df['session_length_action'] = session_length_action_list"
   ]
  },
  {
   "cell_type": "code",
   "execution_count": 15,
   "metadata": {},
   "outputs": [
    {
     "data": {
      "image/png": "[encoded data removed]",
      "text/plain": [
       "<Figure size 800x600 with 1 Axes>"
      ]
     },
     "metadata": {},
     "output_type": "display_data"
    }
   ],
   "source": [
    "### Actions ###\n",
    "\n",
    "total_actions = sum(overall_action_counts.values())\n",
    "\n",
    "plt.figure(figsize=(8,6))\n",
    "sns.barplot(x=list(overall_action_counts.keys()), y=[i/total_actions for i in overall_action_counts.values()]);\n",
    "plt.title(f'Action frequency', fontsize=12)\n",
    "plt.ylabel('Count', fontsize=12)\n",
    "plt.xlabel('Category', fontsize=12)\n",
    "plt.show()"
   ]
  },
  {
   "cell_type": "code",
   "execution_count": 16,
   "metadata": {},
   "outputs": [
    {
     "data": {
      "image/png": "[encoded data removed]",
      "text/plain": [
       "<Figure size 2400x1000 with 2 Axes>"
      ]
     },
     "metadata": {},
     "output_type": "display_data"
    }
   ],
   "source": [
    "fig, ax = plt.subplots(1,2, figsize=(24, 10))\n",
    "\n",
    "p = sns.distplot(sample_train_df['session_length_action'], color=\"y\", bins= 70, ax=ax[0], kde=False)\n",
    "p.set_xlabel(\"Number of actions\", fontsize = 16)\n",
    "p.set_ylabel(\"Density\", fontsize = 16)\n",
    "p.set_title(\"Distribution of the number of actions taken in each session\", fontsize = 14)\n",
    "p.axvline(sample_train_df['session_length_action'].mean(), color='r', linestyle='--', label=\"Mean\")\n",
    "\n",
    "p = sns.distplot(sample_train_df['session_length_hours'], color=\"b\", bins= 70, ax=ax[1], kde=False)\n",
    "p.set_xlabel(\"Hours\", fontsize = 16)\n",
    "p.set_ylabel(\"Density\", fontsize = 16)\n",
    "p.set_title(\"Length of each session\", fontsize = 16);"
   ]
  },
  {
   "cell_type": "code",
   "execution_count": 17,
   "metadata": {},
   "outputs": [
    {
     "name": "stdout",
     "output_type": "stream",
     "text": [
      "34.8% of the sessions had less than 10 actions\n"
     ]
    }
   ],
   "source": [
    "print(f'{round(len(sample_train_df[sample_train_df[\"session_length_action\"]<10])/len(sample_train_df),3)*100}% of the sessions had less than 10 actions')"
   ]
  },
  {
   "cell_type": "code",
   "execution_count": 18,
   "metadata": {},
   "outputs": [
    {
     "data": {
      "image/png": "[encoded data removed]",
      "text/plain": [
       "<Figure size 800x600 with 1 Axes>"
      ]
     },
     "metadata": {},
     "output_type": "display_data"
    }
   ],
   "source": [
    "article_id_freq = list(overall_article_id_counts.values())\n",
    "cut_off = [i for i in article_id_freq if i<30]\n",
    "\n",
    "plt.figure(figsize=(8,6))\n",
    "sns.distplot(cut_off, bins=30, kde=False);\n",
    "plt.title(f'Article ID frequency', fontsize=12)\n",
    "plt.ylabel('Count', fontsize=12)\n",
    "plt.xlabel('Article', fontsize=12);"
   ]
  },
  {
   "cell_type": "code",
   "execution_count": 19,
   "metadata": {},
   "outputs": [
    {
     "name": "stdout",
     "output_type": "stream",
     "text": [
      "Frequency of most common articles: [3877, 4259, 4323, 4503, 5000] \n",
      "\n",
      "IDs for those common articles: [29735, 1603001, 832192, 1733943, 108125]\n"
     ]
    }
   ],
   "source": [
    "### Look at the most interacted with articles ###\n",
    "print(f'Frequency of most common articles: {sorted(list(overall_article_id_counts.values()))[-5:]} \\n')\n",
    "res = nlargest(5, overall_article_id_counts, key = overall_article_id_counts.get)\n",
    "print(f'IDs for those common articles: {res}')"
   ]
  },
  {
   "attachments": {},
   "cell_type": "markdown",
   "metadata": {},
   "source": [
    "### 3.1 Popular items"
   ]
  },
  {
   "cell_type": "code",
   "execution_count": null,
   "metadata": {},
   "outputs": [
    {
     "data": {
      "application/vnd.jupyter.widget-view+json": {
       "model_id": "ace2ea3acb4941c59cdf1791a6aad3c4",
       "version_major": 2,
       "version_minor": 0
      },
      "text/plain": [
       "Summarize dataset:   0%|          | 0/5 [00:00<?, ?it/s]"
      ]
     },
     "metadata": {},
     "output_type": "display_data"
    },
    {
     "data": {
      "application/vnd.jupyter.widget-view+json": {
       "model_id": "f45eb676199140cabd11d16d6515ec96",
       "version_major": 2,
       "version_minor": 0
      },
      "text/plain": [
       "Generate report structure:   0%|          | 0/1 [00:00<?, ?it/s]"
      ]
     },
     "metadata": {},
     "output_type": "display_data"
    },
    {
     "data": {
      "application/vnd.jupyter.widget-view+json": {
       "model_id": "65a766f868ba4433924cc019a9fca942",
       "version_major": 2,
       "version_minor": 0
      },
      "text/plain": [
       "Render widgets:   0%|          | 0/1 [00:00<?, ?it/s]"
      ]
     },
     "metadata": {},
     "output_type": "display_data"
    },
    {
     "data": {
      "application/vnd.jupyter.widget-view+json": {
       "model_id": "d6dbe9322fa84a5fb1a779ea2bfc7028",
       "version_major": 2,
       "version_minor": 0
      },
      "text/plain": [
       "VBox(children=(Tab(children=(Tab(children=(GridBox(children=(VBox(children=(GridspecLayout(children=(HTML(valu…"
      ]
     },
     "metadata": {},
     "output_type": "display_data"
    }
   ],
   "source": [
    "profile = ProfileReport(test_df, title=\"Pandas Profiling Report\")\n",
    "profile.to_widgets()"
   ]
  },
  {
   "cell_type": "code",
   "execution_count": 50,
   "metadata": {},
   "outputs": [
    {
     "data": {
      "text/plain": [
       "231487     4485\n",
       "166037     3824\n",
       "1733943    3042\n",
       "1445562    2998\n",
       "1022566    2788\n",
       "801774     2710\n",
       "1629608    2628\n",
       "756588     2593\n",
       "332654     2436\n",
       "1603001    2353\n",
       "Name: aid, dtype: int64"
      ]
     },
     "execution_count": 50,
     "metadata": {},
     "output_type": "execute_result"
    }
   ],
   "source": [
    "#// find most popular aids with type 2 in train_df in percentage\n",
    "train_df[train_df['type']==2]['aid'].value_counts().head(10)"
   ]
  },
  {
   "cell_type": "code",
   "execution_count": 23,
   "metadata": {},
   "outputs": [
    {
     "data": {
      "text/plain": [
       "986164     0.001130\n",
       "1460571    0.001069\n",
       "329725     0.000825\n",
       "1043508    0.000825\n",
       "332654     0.000718\n",
       "688602     0.000687\n",
       "29735      0.000672\n",
       "1495817    0.000657\n",
       "579690     0.000596\n",
       "1022566    0.000596\n",
       "Name: aid, dtype: float64"
      ]
     },
     "execution_count": 23,
     "metadata": {},
     "output_type": "execute_result"
    }
   ],
   "source": [
    "#// find most popular aids with type 2 in test_df in percentage\n",
    "test_df[test_df['type']==2]['aid'].value_counts(normalize=True).head(10)"
   ]
  },
  {
   "cell_type": "code",
   "execution_count": 39,
   "metadata": {},
   "outputs": [],
   "source": [
    "plt.rcParams['figure.figsize'] = [20, 10]"
   ]
  },
  {
   "cell_type": "code",
   "execution_count": 40,
   "metadata": {},
   "outputs": [
    {
     "data": {
      "text/plain": [
       "<AxesSubplot:>"
      ]
     },
     "execution_count": 40,
     "metadata": {},
     "output_type": "execute_result"
    },
    {
     "data": {
      "image/png": "[encoded data removed]",
      "text/plain": [
       "<Figure size 2000x1000 with 1 Axes>"
      ]
     },
     "metadata": {},
     "output_type": "display_data"
    }
   ],
   "source": [
    "#// plot histogram of most popular aids with type 2 in train_df\n",
    "train_df[train_df['type']==2]['aid'].value_counts(normalize=True).head(40).plot(kind='bar')"
   ]
  },
  {
   "cell_type": "code",
   "execution_count": 41,
   "metadata": {},
   "outputs": [
    {
     "data": {
      "text/plain": [
       "<AxesSubplot:>"
      ]
     },
     "execution_count": 41,
     "metadata": {},
     "output_type": "execute_result"
    },
    {
     "data": {
      "image/png": "[encoded data removed]",
      "text/plain": [
       "<Figure size 2000x1000 with 1 Axes>"
      ]
     },
     "metadata": {},
     "output_type": "display_data"
    }
   ],
   "source": [
    "test_df[test_df['type']==2]['aid'].value_counts(normalize=True).head(40).plot(kind='bar')"
   ]
  },
  {
   "cell_type": "code",
   "execution_count": 42,
   "metadata": {},
   "outputs": [
    {
     "data": {
      "text/plain": [
       "<AxesSubplot:>"
      ]
     },
     "execution_count": 42,
     "metadata": {},
     "output_type": "execute_result"
    },
    {
     "data": {
      "image/png": "[encoded data removed]",
      "text/plain": [
       "<Figure size 2000x1000 with 1 Axes>"
      ]
     },
     "metadata": {},
     "output_type": "display_data"
    }
   ],
   "source": [
    "train_df[train_df['type']==1]['aid'].value_counts(normalize=True).head(40).plot(kind='bar')"
   ]
  },
  {
   "cell_type": "code",
   "execution_count": 43,
   "metadata": {},
   "outputs": [
    {
     "data": {
      "text/plain": [
       "<AxesSubplot:>"
      ]
     },
     "execution_count": 43,
     "metadata": {},
     "output_type": "execute_result"
    },
    {
     "data": {
      "image/png": "[encoded data removed]",
      "text/plain": [
       "<Figure size 2000x1000 with 1 Axes>"
      ]
     },
     "metadata": {},
     "output_type": "display_data"
    }
   ],
   "source": [
    "test_df[test_df['type']==1]['aid'].value_counts(normalize=True).head(40).plot(kind='bar')"
   ]
  },
  {
   "cell_type": "code",
   "execution_count": 44,
   "metadata": {},
   "outputs": [
    {
     "data": {
      "text/plain": [
       "<AxesSubplot:>"
      ]
     },
     "execution_count": 44,
     "metadata": {},
     "output_type": "execute_result"
    },
    {
     "data": {
      "image/png": "[encoded data removed]",
      "text/plain": [
       "<Figure size 2000x1000 with 1 Axes>"
      ]
     },
     "metadata": {},
     "output_type": "display_data"
    }
   ],
   "source": [
    "train_df[train_df['type']==0]['aid'].value_counts(normalize=True).head(40).plot(kind='bar')"
   ]
  },
  {
   "cell_type": "code",
   "execution_count": 45,
   "metadata": {},
   "outputs": [
    {
     "data": {
      "text/plain": [
       "<AxesSubplot:>"
      ]
     },
     "execution_count": 45,
     "metadata": {},
     "output_type": "execute_result"
    },
    {
     "data": {
      "image/png": "[encoded data removed]",
      "text/plain": [
       "<Figure size 2000x1000 with 1 Axes>"
      ]
     },
     "metadata": {},
     "output_type": "display_data"
    }
   ],
   "source": [
    "test_df[test_df['type']==0]['aid'].value_counts(normalize=True).head(40).plot(kind='bar')"
   ]
  },
  {
   "cell_type": "code",
   "execution_count": 9,
   "metadata": {},
   "outputs": [],
   "source": [
    "#// new column with the number of appearances of each aid in train_df\n",
    "train_df['aid_count'] = train_df.groupby('aid')['aid'].transform('count')\n",
    "test_df['aid_count'] = test_df.groupby('aid')['aid'].transform('count')\n",
    "\n",
    "#train_df"
   ]
  },
  {
   "cell_type": "code",
   "execution_count": 19,
   "metadata": {},
   "outputs": [
    {
     "data": {
      "text/html": [
       "<div>\n",
       "<style scoped>\n",
       "    .dataframe tbody tr th:only-of-type {\n",
       "        vertical-align: middle;\n",
       "    }\n",
       "\n",
       "    .dataframe tbody tr th {\n",
       "        vertical-align: top;\n",
       "    }\n",
       "\n",
       "    .dataframe thead th {\n",
       "        text-align: right;\n",
       "    }\n",
       "</style>\n",
       "<table border=\"1\" class=\"dataframe\">\n",
       "  <thead>\n",
       "    <tr style=\"text-align: right;\">\n",
       "      <th></th>\n",
       "      <th>session</th>\n",
       "      <th>aid</th>\n",
       "      <th>ts</th>\n",
       "      <th>type</th>\n",
       "      <th>session_real</th>\n",
       "      <th>num_session_real</th>\n",
       "      <th>session_real_id</th>\n",
       "      <th>aid_count</th>\n",
       "      <th>aid_count_type_0</th>\n",
       "      <th>aid_count_type_1</th>\n",
       "      <th>aid_count_type_2</th>\n",
       "    </tr>\n",
       "  </thead>\n",
       "  <tbody>\n",
       "    <tr>\n",
       "      <th>0</th>\n",
       "      <td>0</td>\n",
       "      <td>1517085</td>\n",
       "      <td>1659304800025</td>\n",
       "      <td>0</td>\n",
       "      <td>0</td>\n",
       "      <td>47</td>\n",
       "      <td>0_0</td>\n",
       "      <td>121</td>\n",
       "      <td>105.0</td>\n",
       "      <td>0.0</td>\n",
       "      <td>0.0</td>\n",
       "    </tr>\n",
       "    <tr>\n",
       "      <th>1</th>\n",
       "      <td>0</td>\n",
       "      <td>1563459</td>\n",
       "      <td>1659304904511</td>\n",
       "      <td>0</td>\n",
       "      <td>0</td>\n",
       "      <td>47</td>\n",
       "      <td>0_0</td>\n",
       "      <td>84</td>\n",
       "      <td>84.0</td>\n",
       "      <td>0.0</td>\n",
       "      <td>0.0</td>\n",
       "    </tr>\n",
       "    <tr>\n",
       "      <th>2</th>\n",
       "      <td>0</td>\n",
       "      <td>1309446</td>\n",
       "      <td>1659367439426</td>\n",
       "      <td>0</td>\n",
       "      <td>1</td>\n",
       "      <td>47</td>\n",
       "      <td>0_1</td>\n",
       "      <td>5811</td>\n",
       "      <td>5118.0</td>\n",
       "      <td>0.0</td>\n",
       "      <td>0.0</td>\n",
       "    </tr>\n",
       "    <tr>\n",
       "      <th>3</th>\n",
       "      <td>0</td>\n",
       "      <td>16246</td>\n",
       "      <td>1659367719997</td>\n",
       "      <td>0</td>\n",
       "      <td>1</td>\n",
       "      <td>47</td>\n",
       "      <td>0_1</td>\n",
       "      <td>1646</td>\n",
       "      <td>1460.0</td>\n",
       "      <td>0.0</td>\n",
       "      <td>0.0</td>\n",
       "    </tr>\n",
       "    <tr>\n",
       "      <th>4</th>\n",
       "      <td>0</td>\n",
       "      <td>1781822</td>\n",
       "      <td>1659367871344</td>\n",
       "      <td>0</td>\n",
       "      <td>1</td>\n",
       "      <td>47</td>\n",
       "      <td>0_1</td>\n",
       "      <td>51</td>\n",
       "      <td>46.0</td>\n",
       "      <td>0.0</td>\n",
       "      <td>0.0</td>\n",
       "    </tr>\n",
       "    <tr>\n",
       "      <th>5</th>\n",
       "      <td>0</td>\n",
       "      <td>1152674</td>\n",
       "      <td>1659367885796</td>\n",
       "      <td>0</td>\n",
       "      <td>1</td>\n",
       "      <td>47</td>\n",
       "      <td>0_1</td>\n",
       "      <td>52</td>\n",
       "      <td>52.0</td>\n",
       "      <td>0.0</td>\n",
       "      <td>0.0</td>\n",
       "    </tr>\n",
       "    <tr>\n",
       "      <th>6</th>\n",
       "      <td>0</td>\n",
       "      <td>1649869</td>\n",
       "      <td>1659369893840</td>\n",
       "      <td>1</td>\n",
       "      <td>1</td>\n",
       "      <td>47</td>\n",
       "      <td>0_1</td>\n",
       "      <td>797</td>\n",
       "      <td>0.0</td>\n",
       "      <td>106.0</td>\n",
       "      <td>0.0</td>\n",
       "    </tr>\n",
       "    <tr>\n",
       "      <th>7</th>\n",
       "      <td>0</td>\n",
       "      <td>461689</td>\n",
       "      <td>1659369898050</td>\n",
       "      <td>1</td>\n",
       "      <td>1</td>\n",
       "      <td>47</td>\n",
       "      <td>0_1</td>\n",
       "      <td>5554</td>\n",
       "      <td>0.0</td>\n",
       "      <td>861.0</td>\n",
       "      <td>0.0</td>\n",
       "    </tr>\n",
       "    <tr>\n",
       "      <th>8</th>\n",
       "      <td>0</td>\n",
       "      <td>305831</td>\n",
       "      <td>1659370027105</td>\n",
       "      <td>2</td>\n",
       "      <td>1</td>\n",
       "      <td>47</td>\n",
       "      <td>0_1</td>\n",
       "      <td>2081</td>\n",
       "      <td>0.0</td>\n",
       "      <td>0.0</td>\n",
       "      <td>38.0</td>\n",
       "    </tr>\n",
       "    <tr>\n",
       "      <th>9</th>\n",
       "      <td>0</td>\n",
       "      <td>461689</td>\n",
       "      <td>1659370027105</td>\n",
       "      <td>2</td>\n",
       "      <td>1</td>\n",
       "      <td>47</td>\n",
       "      <td>0_1</td>\n",
       "      <td>5554</td>\n",
       "      <td>0.0</td>\n",
       "      <td>0.0</td>\n",
       "      <td>279.0</td>\n",
       "    </tr>\n",
       "  </tbody>\n",
       "</table>\n",
       "</div>"
      ],
      "text/plain": [
       "   session      aid             ts  type  session_real  num_session_real  \\\n",
       "0        0  1517085  1659304800025     0             0                47   \n",
       "1        0  1563459  1659304904511     0             0                47   \n",
       "2        0  1309446  1659367439426     0             1                47   \n",
       "3        0    16246  1659367719997     0             1                47   \n",
       "4        0  1781822  1659367871344     0             1                47   \n",
       "5        0  1152674  1659367885796     0             1                47   \n",
       "6        0  1649869  1659369893840     1             1                47   \n",
       "7        0   461689  1659369898050     1             1                47   \n",
       "8        0   305831  1659370027105     2             1                47   \n",
       "9        0   461689  1659370027105     2             1                47   \n",
       "\n",
       "  session_real_id  aid_count  aid_count_type_0  aid_count_type_1  \\\n",
       "0             0_0        121             105.0               0.0   \n",
       "1             0_0         84              84.0               0.0   \n",
       "2             0_1       5811            5118.0               0.0   \n",
       "3             0_1       1646            1460.0               0.0   \n",
       "4             0_1         51              46.0               0.0   \n",
       "5             0_1         52              52.0               0.0   \n",
       "6             0_1        797               0.0             106.0   \n",
       "7             0_1       5554               0.0             861.0   \n",
       "8             0_1       2081               0.0               0.0   \n",
       "9             0_1       5554               0.0               0.0   \n",
       "\n",
       "   aid_count_type_2  \n",
       "0               0.0  \n",
       "1               0.0  \n",
       "2               0.0  \n",
       "3               0.0  \n",
       "4               0.0  \n",
       "5               0.0  \n",
       "6               0.0  \n",
       "7               0.0  \n",
       "8              38.0  \n",
       "9             279.0  "
      ]
     },
     "execution_count": 19,
     "metadata": {},
     "output_type": "execute_result"
    }
   ],
   "source": [
    "#// new column with the number of appearances of each aid where type == 2 in train_df\n",
    "train_df['aid_count_type_0'] = train_df[train_df['type']==0].groupby('aid')['aid'].transform('count')\n",
    "train_df['aid_count_type_1'] = train_df[train_df['type']==1].groupby('aid')['aid'].transform('count')\n",
    "train_df['aid_count_type_2'] = train_df[train_df['type']==2].groupby('aid')['aid'].transform('count')\n",
    "train_df = train_df.fillna(0)\n",
    "train_df.head(10)"
   ]
  },
  {
   "cell_type": "code",
   "execution_count": 10,
   "metadata": {},
   "outputs": [
    {
     "data": {
      "text/html": [
       "<div>\n",
       "<style scoped>\n",
       "    .dataframe tbody tr th:only-of-type {\n",
       "        vertical-align: middle;\n",
       "    }\n",
       "\n",
       "    .dataframe tbody tr th {\n",
       "        vertical-align: top;\n",
       "    }\n",
       "\n",
       "    .dataframe thead th {\n",
       "        text-align: right;\n",
       "    }\n",
       "</style>\n",
       "<table border=\"1\" class=\"dataframe\">\n",
       "  <thead>\n",
       "    <tr style=\"text-align: right;\">\n",
       "      <th></th>\n",
       "      <th>session</th>\n",
       "      <th>aid</th>\n",
       "      <th>ts</th>\n",
       "      <th>type</th>\n",
       "      <th>session_real</th>\n",
       "      <th>num_session_real</th>\n",
       "      <th>session_real_id</th>\n",
       "      <th>aid_count</th>\n",
       "      <th>aid_count_type_0</th>\n",
       "      <th>aid_count_type_1</th>\n",
       "      <th>aid_count_type_2</th>\n",
       "    </tr>\n",
       "  </thead>\n",
       "  <tbody>\n",
       "    <tr>\n",
       "      <th>0</th>\n",
       "      <td>12899779</td>\n",
       "      <td>59625</td>\n",
       "      <td>1661724000278</td>\n",
       "      <td>0</td>\n",
       "      <td>0</td>\n",
       "      <td>0</td>\n",
       "      <td>12899779_0</td>\n",
       "      <td>1</td>\n",
       "      <td>1.0</td>\n",
       "      <td>0.0</td>\n",
       "      <td>0.0</td>\n",
       "    </tr>\n",
       "    <tr>\n",
       "      <th>1</th>\n",
       "      <td>12899780</td>\n",
       "      <td>1142000</td>\n",
       "      <td>1661724000378</td>\n",
       "      <td>0</td>\n",
       "      <td>0</td>\n",
       "      <td>0</td>\n",
       "      <td>12899780_0</td>\n",
       "      <td>511</td>\n",
       "      <td>473.0</td>\n",
       "      <td>0.0</td>\n",
       "      <td>0.0</td>\n",
       "    </tr>\n",
       "    <tr>\n",
       "      <th>2</th>\n",
       "      <td>12899780</td>\n",
       "      <td>582732</td>\n",
       "      <td>1661724058352</td>\n",
       "      <td>0</td>\n",
       "      <td>0</td>\n",
       "      <td>0</td>\n",
       "      <td>12899780_0</td>\n",
       "      <td>371</td>\n",
       "      <td>333.0</td>\n",
       "      <td>0.0</td>\n",
       "      <td>0.0</td>\n",
       "    </tr>\n",
       "    <tr>\n",
       "      <th>3</th>\n",
       "      <td>12899780</td>\n",
       "      <td>973453</td>\n",
       "      <td>1661724109199</td>\n",
       "      <td>0</td>\n",
       "      <td>0</td>\n",
       "      <td>0</td>\n",
       "      <td>12899780_0</td>\n",
       "      <td>94</td>\n",
       "      <td>87.0</td>\n",
       "      <td>0.0</td>\n",
       "      <td>0.0</td>\n",
       "    </tr>\n",
       "    <tr>\n",
       "      <th>4</th>\n",
       "      <td>12899780</td>\n",
       "      <td>736515</td>\n",
       "      <td>1661724136868</td>\n",
       "      <td>0</td>\n",
       "      <td>0</td>\n",
       "      <td>0</td>\n",
       "      <td>12899780_0</td>\n",
       "      <td>563</td>\n",
       "      <td>488.0</td>\n",
       "      <td>0.0</td>\n",
       "      <td>0.0</td>\n",
       "    </tr>\n",
       "    <tr>\n",
       "      <th>5</th>\n",
       "      <td>12899780</td>\n",
       "      <td>1142000</td>\n",
       "      <td>1661724155248</td>\n",
       "      <td>0</td>\n",
       "      <td>0</td>\n",
       "      <td>0</td>\n",
       "      <td>12899780_0</td>\n",
       "      <td>511</td>\n",
       "      <td>473.0</td>\n",
       "      <td>0.0</td>\n",
       "      <td>0.0</td>\n",
       "    </tr>\n",
       "    <tr>\n",
       "      <th>6</th>\n",
       "      <td>12899781</td>\n",
       "      <td>141736</td>\n",
       "      <td>1661724000559</td>\n",
       "      <td>0</td>\n",
       "      <td>0</td>\n",
       "      <td>3</td>\n",
       "      <td>12899781_0</td>\n",
       "      <td>253</td>\n",
       "      <td>231.0</td>\n",
       "      <td>0.0</td>\n",
       "      <td>0.0</td>\n",
       "    </tr>\n",
       "    <tr>\n",
       "      <th>7</th>\n",
       "      <td>12899781</td>\n",
       "      <td>199008</td>\n",
       "      <td>1661724022851</td>\n",
       "      <td>0</td>\n",
       "      <td>0</td>\n",
       "      <td>3</td>\n",
       "      <td>12899781_0</td>\n",
       "      <td>437</td>\n",
       "      <td>400.0</td>\n",
       "      <td>0.0</td>\n",
       "      <td>0.0</td>\n",
       "    </tr>\n",
       "    <tr>\n",
       "      <th>8</th>\n",
       "      <td>12899781</td>\n",
       "      <td>57315</td>\n",
       "      <td>1661724170835</td>\n",
       "      <td>0</td>\n",
       "      <td>0</td>\n",
       "      <td>3</td>\n",
       "      <td>12899781_0</td>\n",
       "      <td>1105</td>\n",
       "      <td>1047.0</td>\n",
       "      <td>0.0</td>\n",
       "      <td>0.0</td>\n",
       "    </tr>\n",
       "    <tr>\n",
       "      <th>9</th>\n",
       "      <td>12899781</td>\n",
       "      <td>194067</td>\n",
       "      <td>1661724246188</td>\n",
       "      <td>0</td>\n",
       "      <td>0</td>\n",
       "      <td>3</td>\n",
       "      <td>12899781_0</td>\n",
       "      <td>40</td>\n",
       "      <td>38.0</td>\n",
       "      <td>0.0</td>\n",
       "      <td>0.0</td>\n",
       "    </tr>\n",
       "  </tbody>\n",
       "</table>\n",
       "</div>"
      ],
      "text/plain": [
       "    session      aid             ts  type  session_real  num_session_real  \\\n",
       "0  12899779    59625  1661724000278     0             0                 0   \n",
       "1  12899780  1142000  1661724000378     0             0                 0   \n",
       "2  12899780   582732  1661724058352     0             0                 0   \n",
       "3  12899780   973453  1661724109199     0             0                 0   \n",
       "4  12899780   736515  1661724136868     0             0                 0   \n",
       "5  12899780  1142000  1661724155248     0             0                 0   \n",
       "6  12899781   141736  1661724000559     0             0                 3   \n",
       "7  12899781   199008  1661724022851     0             0                 3   \n",
       "8  12899781    57315  1661724170835     0             0                 3   \n",
       "9  12899781   194067  1661724246188     0             0                 3   \n",
       "\n",
       "  session_real_id  aid_count  aid_count_type_0  aid_count_type_1  \\\n",
       "0      12899779_0          1               1.0               0.0   \n",
       "1      12899780_0        511             473.0               0.0   \n",
       "2      12899780_0        371             333.0               0.0   \n",
       "3      12899780_0         94              87.0               0.0   \n",
       "4      12899780_0        563             488.0               0.0   \n",
       "5      12899780_0        511             473.0               0.0   \n",
       "6      12899781_0        253             231.0               0.0   \n",
       "7      12899781_0        437             400.0               0.0   \n",
       "8      12899781_0       1105            1047.0               0.0   \n",
       "9      12899781_0         40              38.0               0.0   \n",
       "\n",
       "   aid_count_type_2  \n",
       "0               0.0  \n",
       "1               0.0  \n",
       "2               0.0  \n",
       "3               0.0  \n",
       "4               0.0  \n",
       "5               0.0  \n",
       "6               0.0  \n",
       "7               0.0  \n",
       "8               0.0  \n",
       "9               0.0  "
      ]
     },
     "execution_count": 10,
     "metadata": {},
     "output_type": "execute_result"
    }
   ],
   "source": [
    "test_df['aid_count_type_0'] = test_df[test_df['type']==0].groupby('aid')['aid'].transform('count')\n",
    "test_df['aid_count_type_1'] = test_df[test_df['type']==1].groupby('aid')['aid'].transform('count')\n",
    "test_df['aid_count_type_2'] = test_df[test_df['type']==2].groupby('aid')['aid'].transform('count')\n",
    "test_df = test_df.fillna(0)\n",
    "test_df.head(10)"
   ]
  },
  {
   "cell_type": "code",
   "execution_count": 138,
   "metadata": {},
   "outputs": [
    {
     "data": {
      "text/html": [
       "<div>\n",
       "<style scoped>\n",
       "    .dataframe tbody tr th:only-of-type {\n",
       "        vertical-align: middle;\n",
       "    }\n",
       "\n",
       "    .dataframe tbody tr th {\n",
       "        vertical-align: top;\n",
       "    }\n",
       "\n",
       "    .dataframe thead th {\n",
       "        text-align: right;\n",
       "    }\n",
       "</style>\n",
       "<table border=\"1\" class=\"dataframe\">\n",
       "  <thead>\n",
       "    <tr style=\"text-align: right;\">\n",
       "      <th></th>\n",
       "      <th>aid_count_type_2</th>\n",
       "    </tr>\n",
       "  </thead>\n",
       "  <tbody>\n",
       "    <tr>\n",
       "      <th>0.1</th>\n",
       "      <td>1.0</td>\n",
       "    </tr>\n",
       "    <tr>\n",
       "      <th>0.2</th>\n",
       "      <td>1.0</td>\n",
       "    </tr>\n",
       "    <tr>\n",
       "      <th>0.3</th>\n",
       "      <td>1.0</td>\n",
       "    </tr>\n",
       "    <tr>\n",
       "      <th>0.4</th>\n",
       "      <td>1.0</td>\n",
       "    </tr>\n",
       "    <tr>\n",
       "      <th>0.5</th>\n",
       "      <td>2.0</td>\n",
       "    </tr>\n",
       "    <tr>\n",
       "      <th>0.6</th>\n",
       "      <td>3.0</td>\n",
       "    </tr>\n",
       "    <tr>\n",
       "      <th>0.7</th>\n",
       "      <td>4.0</td>\n",
       "    </tr>\n",
       "    <tr>\n",
       "      <th>0.8</th>\n",
       "      <td>6.0</td>\n",
       "    </tr>\n",
       "    <tr>\n",
       "      <th>0.9</th>\n",
       "      <td>14.0</td>\n",
       "    </tr>\n",
       "    <tr>\n",
       "      <th>1.0</th>\n",
       "      <td>4485.0</td>\n",
       "    </tr>\n",
       "  </tbody>\n",
       "</table>\n",
       "</div>"
      ],
      "text/plain": [
       "     aid_count_type_2\n",
       "0.1               1.0\n",
       "0.2               1.0\n",
       "0.3               1.0\n",
       "0.4               1.0\n",
       "0.5               2.0\n",
       "0.6               3.0\n",
       "0.7               4.0\n",
       "0.8               6.0\n",
       "0.9              14.0\n",
       "1.0            4485.0"
      ]
     },
     "execution_count": 138,
     "metadata": {},
     "output_type": "execute_result"
    }
   ],
   "source": [
    "#// get procentil distribution of aid_count_type_2 in train_df\n",
    "train_df[train_df['type'] == 2].drop_duplicates(subset=['aid'])[['aid_count_type_2']].quantile([0.1, 0.2, 0.3, 0.4, 0.5, 0.6, 0.7, 0.8, 0.9, 1])"
   ]
  },
  {
   "cell_type": "code",
   "execution_count": 139,
   "metadata": {},
   "outputs": [
    {
     "data": {
      "text/plain": [
       "<AxesSubplot:>"
      ]
     },
     "execution_count": 139,
     "metadata": {},
     "output_type": "execute_result"
    },
    {
     "data": {
      "image/png": "[encoded data removed]",
      "text/plain": [
       "<Figure size 2000x1000 with 1 Axes>"
      ]
     },
     "metadata": {},
     "output_type": "display_data"
    }
   ],
   "source": [
    "test_df[test_df['type'] == 2].drop_duplicates(subset=['aid'])[['aid_count_type_2']].quantile([0.1, 0.2, 0.3, 0.4, 0.5, 0.6, 0.7, 0.8, 0.9, 1]).plot(kind='bar')"
   ]
  },
  {
   "cell_type": "code",
   "execution_count": 140,
   "metadata": {},
   "outputs": [
    {
     "data": {
      "text/plain": [
       "<AxesSubplot:>"
      ]
     },
     "execution_count": 140,
     "metadata": {},
     "output_type": "execute_result"
    },
    {
     "data": {
      "image/png": "[encoded data removed]",
      "text/plain": [
       "<Figure size 2000x1000 with 1 Axes>"
      ]
     },
     "metadata": {},
     "output_type": "display_data"
    }
   ],
   "source": [
    "train_df[train_df['type'] == 1].drop_duplicates(subset=['aid'])['aid_count_type_1'].quantile([0.1, 0.2, 0.3, 0.4, 0.5, 0.6, 0.7, 0.8, 0.9, 1]).plot(kind='bar')"
   ]
  },
  {
   "cell_type": "code",
   "execution_count": 141,
   "metadata": {},
   "outputs": [
    {
     "data": {
      "text/plain": [
       "<AxesSubplot:>"
      ]
     },
     "execution_count": 141,
     "metadata": {},
     "output_type": "execute_result"
    },
    {
     "data": {
      "image/png": "[encoded data removed]",
      "text/plain": [
       "<Figure size 2000x1000 with 1 Axes>"
      ]
     },
     "metadata": {},
     "output_type": "display_data"
    }
   ],
   "source": [
    "test_df[test_df['type'] == 1].drop_duplicates(subset=['aid'])['aid_count_type_1'].quantile([0.1, 0.2, 0.3, 0.4, 0.5, 0.6, 0.7, 0.8, 0.9, 1]).plot(kind='bar')"
   ]
  },
  {
   "cell_type": "code",
   "execution_count": 142,
   "metadata": {},
   "outputs": [
    {
     "data": {
      "text/plain": [
       "<AxesSubplot:>"
      ]
     },
     "execution_count": 142,
     "metadata": {},
     "output_type": "execute_result"
    },
    {
     "data": {
      "image/png": "[encoded data removed]",
      "text/plain": [
       "<Figure size 2000x1000 with 1 Axes>"
      ]
     },
     "metadata": {},
     "output_type": "display_data"
    }
   ],
   "source": [
    "train_df[train_df['type'] == 0].drop_duplicates(subset=['aid'])['aid_count_type_0'].quantile([0.1, 0.2, 0.3, 0.4, 0.5, 0.6, 0.7, 0.8, 0.9, 1]).plot(kind='bar')"
   ]
  },
  {
   "cell_type": "code",
   "execution_count": 143,
   "metadata": {},
   "outputs": [
    {
     "data": {
      "text/plain": [
       "<AxesSubplot:>"
      ]
     },
     "execution_count": 143,
     "metadata": {},
     "output_type": "execute_result"
    },
    {
     "data": {
      "image/png": "[encoded data removed]",
      "text/plain": [
       "<Figure size 2000x1000 with 1 Axes>"
      ]
     },
     "metadata": {},
     "output_type": "display_data"
    }
   ],
   "source": [
    "test_df[test_df['type'] == 0].drop_duplicates(subset=['aid'])['aid_count_type_0'].quantile([0.1, 0.2, 0.3, 0.4, 0.5, 0.6, 0.7, 0.8, 0.9, 1]).plot(kind='bar')"
   ]
  },
  {
   "cell_type": "markdown",
   "metadata": {},
   "source": [
    "### 3.2 Sessions bechavior"
   ]
  },
  {
   "cell_type": "code",
   "execution_count": 89,
   "metadata": {},
   "outputs": [
    {
     "data": {
      "text/html": [
       "<div>\n",
       "<style scoped>\n",
       "    .dataframe tbody tr th:only-of-type {\n",
       "        vertical-align: middle;\n",
       "    }\n",
       "\n",
       "    .dataframe tbody tr th {\n",
       "        vertical-align: top;\n",
       "    }\n",
       "\n",
       "    .dataframe thead th {\n",
       "        text-align: right;\n",
       "    }\n",
       "</style>\n",
       "<table border=\"1\" class=\"dataframe\">\n",
       "  <thead>\n",
       "    <tr style=\"text-align: right;\">\n",
       "      <th></th>\n",
       "      <th>session</th>\n",
       "      <th>aid</th>\n",
       "      <th>ts</th>\n",
       "      <th>type</th>\n",
       "      <th>session_real</th>\n",
       "      <th>num_session_real</th>\n",
       "      <th>session_real_id</th>\n",
       "      <th>aid_count_type_0</th>\n",
       "      <th>aid_count_type_1</th>\n",
       "      <th>aid_count_type_2</th>\n",
       "      <th>num_session_real_id</th>\n",
       "    </tr>\n",
       "  </thead>\n",
       "  <tbody>\n",
       "    <tr>\n",
       "      <th>0</th>\n",
       "      <td>12899779</td>\n",
       "      <td>59625</td>\n",
       "      <td>1661724000278</td>\n",
       "      <td>0</td>\n",
       "      <td>0</td>\n",
       "      <td>0</td>\n",
       "      <td>12899779_0</td>\n",
       "      <td>1.0</td>\n",
       "      <td>0.0</td>\n",
       "      <td>0.0</td>\n",
       "      <td>1</td>\n",
       "    </tr>\n",
       "    <tr>\n",
       "      <th>1</th>\n",
       "      <td>12899780</td>\n",
       "      <td>1142000</td>\n",
       "      <td>1661724000378</td>\n",
       "      <td>0</td>\n",
       "      <td>0</td>\n",
       "      <td>0</td>\n",
       "      <td>12899780_0</td>\n",
       "      <td>473.0</td>\n",
       "      <td>0.0</td>\n",
       "      <td>0.0</td>\n",
       "      <td>5</td>\n",
       "    </tr>\n",
       "    <tr>\n",
       "      <th>2</th>\n",
       "      <td>12899780</td>\n",
       "      <td>582732</td>\n",
       "      <td>1661724058352</td>\n",
       "      <td>0</td>\n",
       "      <td>0</td>\n",
       "      <td>0</td>\n",
       "      <td>12899780_0</td>\n",
       "      <td>333.0</td>\n",
       "      <td>0.0</td>\n",
       "      <td>0.0</td>\n",
       "      <td>5</td>\n",
       "    </tr>\n",
       "    <tr>\n",
       "      <th>3</th>\n",
       "      <td>12899780</td>\n",
       "      <td>973453</td>\n",
       "      <td>1661724109199</td>\n",
       "      <td>0</td>\n",
       "      <td>0</td>\n",
       "      <td>0</td>\n",
       "      <td>12899780_0</td>\n",
       "      <td>87.0</td>\n",
       "      <td>0.0</td>\n",
       "      <td>0.0</td>\n",
       "      <td>5</td>\n",
       "    </tr>\n",
       "    <tr>\n",
       "      <th>4</th>\n",
       "      <td>12899780</td>\n",
       "      <td>736515</td>\n",
       "      <td>1661724136868</td>\n",
       "      <td>0</td>\n",
       "      <td>0</td>\n",
       "      <td>0</td>\n",
       "      <td>12899780_0</td>\n",
       "      <td>488.0</td>\n",
       "      <td>0.0</td>\n",
       "      <td>0.0</td>\n",
       "      <td>5</td>\n",
       "    </tr>\n",
       "  </tbody>\n",
       "</table>\n",
       "</div>"
      ],
      "text/plain": [
       "    session      aid             ts  type  session_real  num_session_real  \\\n",
       "0  12899779    59625  1661724000278     0             0                 0   \n",
       "1  12899780  1142000  1661724000378     0             0                 0   \n",
       "2  12899780   582732  1661724058352     0             0                 0   \n",
       "3  12899780   973453  1661724109199     0             0                 0   \n",
       "4  12899780   736515  1661724136868     0             0                 0   \n",
       "\n",
       "  session_real_id  aid_count_type_0  aid_count_type_1  aid_count_type_2  \\\n",
       "0      12899779_0               1.0               0.0               0.0   \n",
       "1      12899780_0             473.0               0.0               0.0   \n",
       "2      12899780_0             333.0               0.0               0.0   \n",
       "3      12899780_0              87.0               0.0               0.0   \n",
       "4      12899780_0             488.0               0.0               0.0   \n",
       "\n",
       "   num_session_real_id  \n",
       "0                    1  \n",
       "1                    5  \n",
       "2                    5  \n",
       "3                    5  \n",
       "4                    5  "
      ]
     },
     "execution_count": 89,
     "metadata": {},
     "output_type": "execute_result"
    }
   ],
   "source": [
    "test_df.head()"
   ]
  },
  {
   "cell_type": "code",
   "execution_count": null,
   "metadata": {},
   "outputs": [],
   "source": [
    "# num real sessions"
   ]
  },
  {
   "cell_type": "code",
   "execution_count": 11,
   "metadata": {},
   "outputs": [
    {
     "data": {
      "text/html": [
       "<div>\n",
       "<style scoped>\n",
       "    .dataframe tbody tr th:only-of-type {\n",
       "        vertical-align: middle;\n",
       "    }\n",
       "\n",
       "    .dataframe tbody tr th {\n",
       "        vertical-align: top;\n",
       "    }\n",
       "\n",
       "    .dataframe thead th {\n",
       "        text-align: right;\n",
       "    }\n",
       "</style>\n",
       "<table border=\"1\" class=\"dataframe\">\n",
       "  <thead>\n",
       "    <tr style=\"text-align: right;\">\n",
       "      <th></th>\n",
       "      <th>session</th>\n",
       "      <th>aid</th>\n",
       "      <th>ts</th>\n",
       "      <th>type</th>\n",
       "      <th>session_real</th>\n",
       "      <th>num_session_real</th>\n",
       "      <th>session_real_id</th>\n",
       "      <th>aid_count</th>\n",
       "      <th>aid_count_type_0</th>\n",
       "      <th>aid_count_type_1</th>\n",
       "      <th>aid_count_type_2</th>\n",
       "      <th>num_session_real_id</th>\n",
       "    </tr>\n",
       "  </thead>\n",
       "  <tbody>\n",
       "    <tr>\n",
       "      <th>0</th>\n",
       "      <td>12899779</td>\n",
       "      <td>59625</td>\n",
       "      <td>1661724000278</td>\n",
       "      <td>0</td>\n",
       "      <td>0</td>\n",
       "      <td>0</td>\n",
       "      <td>12899779_0</td>\n",
       "      <td>1</td>\n",
       "      <td>1.0</td>\n",
       "      <td>0.0</td>\n",
       "      <td>0.0</td>\n",
       "      <td>1</td>\n",
       "    </tr>\n",
       "    <tr>\n",
       "      <th>1</th>\n",
       "      <td>12899780</td>\n",
       "      <td>1142000</td>\n",
       "      <td>1661724000378</td>\n",
       "      <td>0</td>\n",
       "      <td>0</td>\n",
       "      <td>0</td>\n",
       "      <td>12899780_0</td>\n",
       "      <td>511</td>\n",
       "      <td>473.0</td>\n",
       "      <td>0.0</td>\n",
       "      <td>0.0</td>\n",
       "      <td>5</td>\n",
       "    </tr>\n",
       "    <tr>\n",
       "      <th>2</th>\n",
       "      <td>12899780</td>\n",
       "      <td>582732</td>\n",
       "      <td>1661724058352</td>\n",
       "      <td>0</td>\n",
       "      <td>0</td>\n",
       "      <td>0</td>\n",
       "      <td>12899780_0</td>\n",
       "      <td>371</td>\n",
       "      <td>333.0</td>\n",
       "      <td>0.0</td>\n",
       "      <td>0.0</td>\n",
       "      <td>5</td>\n",
       "    </tr>\n",
       "    <tr>\n",
       "      <th>3</th>\n",
       "      <td>12899780</td>\n",
       "      <td>973453</td>\n",
       "      <td>1661724109199</td>\n",
       "      <td>0</td>\n",
       "      <td>0</td>\n",
       "      <td>0</td>\n",
       "      <td>12899780_0</td>\n",
       "      <td>94</td>\n",
       "      <td>87.0</td>\n",
       "      <td>0.0</td>\n",
       "      <td>0.0</td>\n",
       "      <td>5</td>\n",
       "    </tr>\n",
       "    <tr>\n",
       "      <th>4</th>\n",
       "      <td>12899780</td>\n",
       "      <td>736515</td>\n",
       "      <td>1661724136868</td>\n",
       "      <td>0</td>\n",
       "      <td>0</td>\n",
       "      <td>0</td>\n",
       "      <td>12899780_0</td>\n",
       "      <td>563</td>\n",
       "      <td>488.0</td>\n",
       "      <td>0.0</td>\n",
       "      <td>0.0</td>\n",
       "      <td>5</td>\n",
       "    </tr>\n",
       "    <tr>\n",
       "      <th>5</th>\n",
       "      <td>12899780</td>\n",
       "      <td>1142000</td>\n",
       "      <td>1661724155248</td>\n",
       "      <td>0</td>\n",
       "      <td>0</td>\n",
       "      <td>0</td>\n",
       "      <td>12899780_0</td>\n",
       "      <td>511</td>\n",
       "      <td>473.0</td>\n",
       "      <td>0.0</td>\n",
       "      <td>0.0</td>\n",
       "      <td>5</td>\n",
       "    </tr>\n",
       "    <tr>\n",
       "      <th>6</th>\n",
       "      <td>12899781</td>\n",
       "      <td>141736</td>\n",
       "      <td>1661724000559</td>\n",
       "      <td>0</td>\n",
       "      <td>0</td>\n",
       "      <td>3</td>\n",
       "      <td>12899781_0</td>\n",
       "      <td>253</td>\n",
       "      <td>231.0</td>\n",
       "      <td>0.0</td>\n",
       "      <td>0.0</td>\n",
       "      <td>4</td>\n",
       "    </tr>\n",
       "    <tr>\n",
       "      <th>7</th>\n",
       "      <td>12899781</td>\n",
       "      <td>199008</td>\n",
       "      <td>1661724022851</td>\n",
       "      <td>0</td>\n",
       "      <td>0</td>\n",
       "      <td>3</td>\n",
       "      <td>12899781_0</td>\n",
       "      <td>437</td>\n",
       "      <td>400.0</td>\n",
       "      <td>0.0</td>\n",
       "      <td>0.0</td>\n",
       "      <td>4</td>\n",
       "    </tr>\n",
       "    <tr>\n",
       "      <th>8</th>\n",
       "      <td>12899781</td>\n",
       "      <td>57315</td>\n",
       "      <td>1661724170835</td>\n",
       "      <td>0</td>\n",
       "      <td>0</td>\n",
       "      <td>3</td>\n",
       "      <td>12899781_0</td>\n",
       "      <td>1105</td>\n",
       "      <td>1047.0</td>\n",
       "      <td>0.0</td>\n",
       "      <td>0.0</td>\n",
       "      <td>4</td>\n",
       "    </tr>\n",
       "    <tr>\n",
       "      <th>9</th>\n",
       "      <td>12899781</td>\n",
       "      <td>194067</td>\n",
       "      <td>1661724246188</td>\n",
       "      <td>0</td>\n",
       "      <td>0</td>\n",
       "      <td>3</td>\n",
       "      <td>12899781_0</td>\n",
       "      <td>40</td>\n",
       "      <td>38.0</td>\n",
       "      <td>0.0</td>\n",
       "      <td>0.0</td>\n",
       "      <td>4</td>\n",
       "    </tr>\n",
       "    <tr>\n",
       "      <th>10</th>\n",
       "      <td>12899781</td>\n",
       "      <td>199008</td>\n",
       "      <td>1661780623778</td>\n",
       "      <td>0</td>\n",
       "      <td>1</td>\n",
       "      <td>3</td>\n",
       "      <td>12899781_1</td>\n",
       "      <td>437</td>\n",
       "      <td>400.0</td>\n",
       "      <td>0.0</td>\n",
       "      <td>0.0</td>\n",
       "      <td>3</td>\n",
       "    </tr>\n",
       "    <tr>\n",
       "      <th>11</th>\n",
       "      <td>12899781</td>\n",
       "      <td>199008</td>\n",
       "      <td>1661781274081</td>\n",
       "      <td>0</td>\n",
       "      <td>1</td>\n",
       "      <td>3</td>\n",
       "      <td>12899781_1</td>\n",
       "      <td>437</td>\n",
       "      <td>400.0</td>\n",
       "      <td>0.0</td>\n",
       "      <td>0.0</td>\n",
       "      <td>3</td>\n",
       "    </tr>\n",
       "    <tr>\n",
       "      <th>12</th>\n",
       "      <td>12899781</td>\n",
       "      <td>199008</td>\n",
       "      <td>1661781409993</td>\n",
       "      <td>1</td>\n",
       "      <td>1</td>\n",
       "      <td>3</td>\n",
       "      <td>12899781_1</td>\n",
       "      <td>437</td>\n",
       "      <td>0.0</td>\n",
       "      <td>33.0</td>\n",
       "      <td>0.0</td>\n",
       "      <td>3</td>\n",
       "    </tr>\n",
       "    <tr>\n",
       "      <th>13</th>\n",
       "      <td>12899781</td>\n",
       "      <td>199008</td>\n",
       "      <td>1661804151788</td>\n",
       "      <td>0</td>\n",
       "      <td>2</td>\n",
       "      <td>3</td>\n",
       "      <td>12899781_2</td>\n",
       "      <td>437</td>\n",
       "      <td>400.0</td>\n",
       "      <td>0.0</td>\n",
       "      <td>0.0</td>\n",
       "      <td>1</td>\n",
       "    </tr>\n",
       "    <tr>\n",
       "      <th>14</th>\n",
       "      <td>12899781</td>\n",
       "      <td>199008</td>\n",
       "      <td>1662060028567</td>\n",
       "      <td>0</td>\n",
       "      <td>3</td>\n",
       "      <td>3</td>\n",
       "      <td>12899781_3</td>\n",
       "      <td>437</td>\n",
       "      <td>400.0</td>\n",
       "      <td>0.0</td>\n",
       "      <td>0.0</td>\n",
       "      <td>3</td>\n",
       "    </tr>\n",
       "    <tr>\n",
       "      <th>15</th>\n",
       "      <td>12899781</td>\n",
       "      <td>199008</td>\n",
       "      <td>1662060064706</td>\n",
       "      <td>0</td>\n",
       "      <td>3</td>\n",
       "      <td>3</td>\n",
       "      <td>12899781_3</td>\n",
       "      <td>437</td>\n",
       "      <td>400.0</td>\n",
       "      <td>0.0</td>\n",
       "      <td>0.0</td>\n",
       "      <td>3</td>\n",
       "    </tr>\n",
       "    <tr>\n",
       "      <th>16</th>\n",
       "      <td>12899781</td>\n",
       "      <td>918667</td>\n",
       "      <td>1662060160406</td>\n",
       "      <td>0</td>\n",
       "      <td>3</td>\n",
       "      <td>3</td>\n",
       "      <td>12899781_3</td>\n",
       "      <td>116</td>\n",
       "      <td>111.0</td>\n",
       "      <td>0.0</td>\n",
       "      <td>0.0</td>\n",
       "      <td>3</td>\n",
       "    </tr>\n",
       "    <tr>\n",
       "      <th>17</th>\n",
       "      <td>12899782</td>\n",
       "      <td>1669402</td>\n",
       "      <td>1661724000568</td>\n",
       "      <td>0</td>\n",
       "      <td>0</td>\n",
       "      <td>3</td>\n",
       "      <td>12899782_0</td>\n",
       "      <td>24</td>\n",
       "      <td>16.0</td>\n",
       "      <td>0.0</td>\n",
       "      <td>0.0</td>\n",
       "      <td>10</td>\n",
       "    </tr>\n",
       "    <tr>\n",
       "      <th>18</th>\n",
       "      <td>12899782</td>\n",
       "      <td>1494780</td>\n",
       "      <td>1661724163530</td>\n",
       "      <td>0</td>\n",
       "      <td>0</td>\n",
       "      <td>3</td>\n",
       "      <td>12899782_0</td>\n",
       "      <td>6</td>\n",
       "      <td>4.0</td>\n",
       "      <td>0.0</td>\n",
       "      <td>0.0</td>\n",
       "      <td>10</td>\n",
       "    </tr>\n",
       "    <tr>\n",
       "      <th>19</th>\n",
       "      <td>12899782</td>\n",
       "      <td>1494780</td>\n",
       "      <td>1661724190624</td>\n",
       "      <td>0</td>\n",
       "      <td>0</td>\n",
       "      <td>3</td>\n",
       "      <td>12899782_0</td>\n",
       "      <td>6</td>\n",
       "      <td>4.0</td>\n",
       "      <td>0.0</td>\n",
       "      <td>0.0</td>\n",
       "      <td>10</td>\n",
       "    </tr>\n",
       "  </tbody>\n",
       "</table>\n",
       "</div>"
      ],
      "text/plain": [
       "     session      aid             ts  type  session_real  num_session_real  \\\n",
       "0   12899779    59625  1661724000278     0             0                 0   \n",
       "1   12899780  1142000  1661724000378     0             0                 0   \n",
       "2   12899780   582732  1661724058352     0             0                 0   \n",
       "3   12899780   973453  1661724109199     0             0                 0   \n",
       "4   12899780   736515  1661724136868     0             0                 0   \n",
       "5   12899780  1142000  1661724155248     0             0                 0   \n",
       "6   12899781   141736  1661724000559     0             0                 3   \n",
       "7   12899781   199008  1661724022851     0             0                 3   \n",
       "8   12899781    57315  1661724170835     0             0                 3   \n",
       "9   12899781   194067  1661724246188     0             0                 3   \n",
       "10  12899781   199008  1661780623778     0             1                 3   \n",
       "11  12899781   199008  1661781274081     0             1                 3   \n",
       "12  12899781   199008  1661781409993     1             1                 3   \n",
       "13  12899781   199008  1661804151788     0             2                 3   \n",
       "14  12899781   199008  1662060028567     0             3                 3   \n",
       "15  12899781   199008  1662060064706     0             3                 3   \n",
       "16  12899781   918667  1662060160406     0             3                 3   \n",
       "17  12899782  1669402  1661724000568     0             0                 3   \n",
       "18  12899782  1494780  1661724163530     0             0                 3   \n",
       "19  12899782  1494780  1661724190624     0             0                 3   \n",
       "\n",
       "   session_real_id  aid_count  aid_count_type_0  aid_count_type_1  \\\n",
       "0       12899779_0          1               1.0               0.0   \n",
       "1       12899780_0        511             473.0               0.0   \n",
       "2       12899780_0        371             333.0               0.0   \n",
       "3       12899780_0         94              87.0               0.0   \n",
       "4       12899780_0        563             488.0               0.0   \n",
       "5       12899780_0        511             473.0               0.0   \n",
       "6       12899781_0        253             231.0               0.0   \n",
       "7       12899781_0        437             400.0               0.0   \n",
       "8       12899781_0       1105            1047.0               0.0   \n",
       "9       12899781_0         40              38.0               0.0   \n",
       "10      12899781_1        437             400.0               0.0   \n",
       "11      12899781_1        437             400.0               0.0   \n",
       "12      12899781_1        437               0.0              33.0   \n",
       "13      12899781_2        437             400.0               0.0   \n",
       "14      12899781_3        437             400.0               0.0   \n",
       "15      12899781_3        437             400.0               0.0   \n",
       "16      12899781_3        116             111.0               0.0   \n",
       "17      12899782_0         24              16.0               0.0   \n",
       "18      12899782_0          6               4.0               0.0   \n",
       "19      12899782_0          6               4.0               0.0   \n",
       "\n",
       "    aid_count_type_2  num_session_real_id  \n",
       "0                0.0                    1  \n",
       "1                0.0                    5  \n",
       "2                0.0                    5  \n",
       "3                0.0                    5  \n",
       "4                0.0                    5  \n",
       "5                0.0                    5  \n",
       "6                0.0                    4  \n",
       "7                0.0                    4  \n",
       "8                0.0                    4  \n",
       "9                0.0                    4  \n",
       "10               0.0                    3  \n",
       "11               0.0                    3  \n",
       "12               0.0                    3  \n",
       "13               0.0                    1  \n",
       "14               0.0                    3  \n",
       "15               0.0                    3  \n",
       "16               0.0                    3  \n",
       "17               0.0                   10  \n",
       "18               0.0                   10  \n",
       "19               0.0                   10  "
      ]
     },
     "execution_count": 11,
     "metadata": {},
     "output_type": "execute_result"
    }
   ],
   "source": [
    "test_df['num_session_real_id'] = test_df.groupby('session_real_id')['session_real_id'].transform('count')\n",
    "test_df.head(20)"
   ]
  },
  {
   "cell_type": "code",
   "execution_count": 22,
   "metadata": {},
   "outputs": [],
   "source": [
    "train_df['num_session_real_id'] = train_df.groupby('session_real_id')['session_real_id'].transform('count')\n"
   ]
  },
  {
   "cell_type": "code",
   "execution_count": 133,
   "metadata": {},
   "outputs": [
    {
     "data": {
      "text/plain": [
       "0.1     0.0\n",
       "0.2     0.0\n",
       "0.3     0.0\n",
       "0.4     0.0\n",
       "0.5     0.0\n",
       "0.6     0.0\n",
       "0.7     0.0\n",
       "0.8     1.0\n",
       "0.9     1.0\n",
       "1.0    18.0\n",
       "Name: num_session_real, dtype: float64"
      ]
     },
     "execution_count": 133,
     "metadata": {},
     "output_type": "execute_result"
    }
   ],
   "source": [
    "test_df.drop_duplicates(subset=['session_real_id'])['num_session_real'].quantile([0.1, 0.2, 0.3, 0.4, 0.5, 0.6, 0.7, 0.8, 0.9, 1])"
   ]
  },
  {
   "cell_type": "code",
   "execution_count": 134,
   "metadata": {},
   "outputs": [
    {
     "data": {
      "text/plain": [
       "0.1      0.0\n",
       "0.2      1.0\n",
       "0.3      2.0\n",
       "0.4      3.0\n",
       "0.5      4.0\n",
       "0.6      6.0\n",
       "0.7      8.0\n",
       "0.8     12.0\n",
       "0.9     20.0\n",
       "1.0    126.0\n",
       "Name: num_session_real, dtype: float64"
      ]
     },
     "execution_count": 134,
     "metadata": {},
     "output_type": "execute_result"
    }
   ],
   "source": [
    "train_df.drop_duplicates(subset=['session_real_id'])['num_session_real'].quantile([0.1, 0.2, 0.3, 0.4, 0.5, 0.6, 0.7, 0.8, 0.9, 1])"
   ]
  },
  {
   "cell_type": "code",
   "execution_count": null,
   "metadata": {},
   "outputs": [],
   "source": [
    "#count unique aids for each real session and for each type type of actions"
   ]
  },
  {
   "cell_type": "code",
   "execution_count": 12,
   "metadata": {},
   "outputs": [
    {
     "data": {
      "text/html": [
       "<div>\n",
       "<style scoped>\n",
       "    .dataframe tbody tr th:only-of-type {\n",
       "        vertical-align: middle;\n",
       "    }\n",
       "\n",
       "    .dataframe tbody tr th {\n",
       "        vertical-align: top;\n",
       "    }\n",
       "\n",
       "    .dataframe thead th {\n",
       "        text-align: right;\n",
       "    }\n",
       "</style>\n",
       "<table border=\"1\" class=\"dataframe\">\n",
       "  <thead>\n",
       "    <tr style=\"text-align: right;\">\n",
       "      <th></th>\n",
       "      <th>session</th>\n",
       "      <th>aid</th>\n",
       "      <th>ts</th>\n",
       "      <th>type</th>\n",
       "      <th>session_real</th>\n",
       "      <th>num_session_real</th>\n",
       "      <th>session_real_id</th>\n",
       "      <th>aid_count</th>\n",
       "      <th>aid_count_type_0</th>\n",
       "      <th>aid_count_type_1</th>\n",
       "      <th>aid_count_type_2</th>\n",
       "      <th>num_session_real_id</th>\n",
       "      <th>num_unique_aid</th>\n",
       "    </tr>\n",
       "  </thead>\n",
       "  <tbody>\n",
       "    <tr>\n",
       "      <th>0</th>\n",
       "      <td>12899779</td>\n",
       "      <td>59625</td>\n",
       "      <td>1661724000278</td>\n",
       "      <td>0</td>\n",
       "      <td>0</td>\n",
       "      <td>0</td>\n",
       "      <td>12899779_0</td>\n",
       "      <td>1</td>\n",
       "      <td>1.0</td>\n",
       "      <td>0.0</td>\n",
       "      <td>0.0</td>\n",
       "      <td>1</td>\n",
       "      <td>1</td>\n",
       "    </tr>\n",
       "    <tr>\n",
       "      <th>1</th>\n",
       "      <td>12899780</td>\n",
       "      <td>1142000</td>\n",
       "      <td>1661724000378</td>\n",
       "      <td>0</td>\n",
       "      <td>0</td>\n",
       "      <td>0</td>\n",
       "      <td>12899780_0</td>\n",
       "      <td>511</td>\n",
       "      <td>473.0</td>\n",
       "      <td>0.0</td>\n",
       "      <td>0.0</td>\n",
       "      <td>5</td>\n",
       "      <td>4</td>\n",
       "    </tr>\n",
       "    <tr>\n",
       "      <th>2</th>\n",
       "      <td>12899780</td>\n",
       "      <td>582732</td>\n",
       "      <td>1661724058352</td>\n",
       "      <td>0</td>\n",
       "      <td>0</td>\n",
       "      <td>0</td>\n",
       "      <td>12899780_0</td>\n",
       "      <td>371</td>\n",
       "      <td>333.0</td>\n",
       "      <td>0.0</td>\n",
       "      <td>0.0</td>\n",
       "      <td>5</td>\n",
       "      <td>4</td>\n",
       "    </tr>\n",
       "    <tr>\n",
       "      <th>3</th>\n",
       "      <td>12899780</td>\n",
       "      <td>973453</td>\n",
       "      <td>1661724109199</td>\n",
       "      <td>0</td>\n",
       "      <td>0</td>\n",
       "      <td>0</td>\n",
       "      <td>12899780_0</td>\n",
       "      <td>94</td>\n",
       "      <td>87.0</td>\n",
       "      <td>0.0</td>\n",
       "      <td>0.0</td>\n",
       "      <td>5</td>\n",
       "      <td>4</td>\n",
       "    </tr>\n",
       "    <tr>\n",
       "      <th>4</th>\n",
       "      <td>12899780</td>\n",
       "      <td>736515</td>\n",
       "      <td>1661724136868</td>\n",
       "      <td>0</td>\n",
       "      <td>0</td>\n",
       "      <td>0</td>\n",
       "      <td>12899780_0</td>\n",
       "      <td>563</td>\n",
       "      <td>488.0</td>\n",
       "      <td>0.0</td>\n",
       "      <td>0.0</td>\n",
       "      <td>5</td>\n",
       "      <td>4</td>\n",
       "    </tr>\n",
       "    <tr>\n",
       "      <th>...</th>\n",
       "      <td>...</td>\n",
       "      <td>...</td>\n",
       "      <td>...</td>\n",
       "      <td>...</td>\n",
       "      <td>...</td>\n",
       "      <td>...</td>\n",
       "      <td>...</td>\n",
       "      <td>...</td>\n",
       "      <td>...</td>\n",
       "      <td>...</td>\n",
       "      <td>...</td>\n",
       "      <td>...</td>\n",
       "      <td>...</td>\n",
       "    </tr>\n",
       "    <tr>\n",
       "      <th>6928118</th>\n",
       "      <td>14571577</td>\n",
       "      <td>1141710</td>\n",
       "      <td>1662328774770</td>\n",
       "      <td>0</td>\n",
       "      <td>0</td>\n",
       "      <td>0</td>\n",
       "      <td>14571577_0</td>\n",
       "      <td>6</td>\n",
       "      <td>6.0</td>\n",
       "      <td>0.0</td>\n",
       "      <td>0.0</td>\n",
       "      <td>1</td>\n",
       "      <td>1</td>\n",
       "    </tr>\n",
       "    <tr>\n",
       "      <th>6928119</th>\n",
       "      <td>14571578</td>\n",
       "      <td>519105</td>\n",
       "      <td>1662328775009</td>\n",
       "      <td>0</td>\n",
       "      <td>0</td>\n",
       "      <td>0</td>\n",
       "      <td>14571578_0</td>\n",
       "      <td>8</td>\n",
       "      <td>8.0</td>\n",
       "      <td>0.0</td>\n",
       "      <td>0.0</td>\n",
       "      <td>1</td>\n",
       "      <td>1</td>\n",
       "    </tr>\n",
       "    <tr>\n",
       "      <th>6928120</th>\n",
       "      <td>14571579</td>\n",
       "      <td>739876</td>\n",
       "      <td>1662328775605</td>\n",
       "      <td>0</td>\n",
       "      <td>0</td>\n",
       "      <td>0</td>\n",
       "      <td>14571579_0</td>\n",
       "      <td>29</td>\n",
       "      <td>24.0</td>\n",
       "      <td>0.0</td>\n",
       "      <td>0.0</td>\n",
       "      <td>1</td>\n",
       "      <td>1</td>\n",
       "    </tr>\n",
       "    <tr>\n",
       "      <th>6928121</th>\n",
       "      <td>14571580</td>\n",
       "      <td>202353</td>\n",
       "      <td>1662328781067</td>\n",
       "      <td>0</td>\n",
       "      <td>0</td>\n",
       "      <td>0</td>\n",
       "      <td>14571580_0</td>\n",
       "      <td>20</td>\n",
       "      <td>19.0</td>\n",
       "      <td>0.0</td>\n",
       "      <td>0.0</td>\n",
       "      <td>1</td>\n",
       "      <td>1</td>\n",
       "    </tr>\n",
       "    <tr>\n",
       "      <th>6928122</th>\n",
       "      <td>14571581</td>\n",
       "      <td>1100210</td>\n",
       "      <td>1662328791563</td>\n",
       "      <td>0</td>\n",
       "      <td>0</td>\n",
       "      <td>0</td>\n",
       "      <td>14571581_0</td>\n",
       "      <td>156</td>\n",
       "      <td>151.0</td>\n",
       "      <td>0.0</td>\n",
       "      <td>0.0</td>\n",
       "      <td>1</td>\n",
       "      <td>1</td>\n",
       "    </tr>\n",
       "  </tbody>\n",
       "</table>\n",
       "<p>6928123 rows × 13 columns</p>\n",
       "</div>"
      ],
      "text/plain": [
       "          session      aid             ts  type  session_real  \\\n",
       "0        12899779    59625  1661724000278     0             0   \n",
       "1        12899780  1142000  1661724000378     0             0   \n",
       "2        12899780   582732  1661724058352     0             0   \n",
       "3        12899780   973453  1661724109199     0             0   \n",
       "4        12899780   736515  1661724136868     0             0   \n",
       "...           ...      ...            ...   ...           ...   \n",
       "6928118  14571577  1141710  1662328774770     0             0   \n",
       "6928119  14571578   519105  1662328775009     0             0   \n",
       "6928120  14571579   739876  1662328775605     0             0   \n",
       "6928121  14571580   202353  1662328781067     0             0   \n",
       "6928122  14571581  1100210  1662328791563     0             0   \n",
       "\n",
       "         num_session_real session_real_id  aid_count  aid_count_type_0  \\\n",
       "0                       0      12899779_0          1               1.0   \n",
       "1                       0      12899780_0        511             473.0   \n",
       "2                       0      12899780_0        371             333.0   \n",
       "3                       0      12899780_0         94              87.0   \n",
       "4                       0      12899780_0        563             488.0   \n",
       "...                   ...             ...        ...               ...   \n",
       "6928118                 0      14571577_0          6               6.0   \n",
       "6928119                 0      14571578_0          8               8.0   \n",
       "6928120                 0      14571579_0         29              24.0   \n",
       "6928121                 0      14571580_0         20              19.0   \n",
       "6928122                 0      14571581_0        156             151.0   \n",
       "\n",
       "         aid_count_type_1  aid_count_type_2  num_session_real_id  \\\n",
       "0                     0.0               0.0                    1   \n",
       "1                     0.0               0.0                    5   \n",
       "2                     0.0               0.0                    5   \n",
       "3                     0.0               0.0                    5   \n",
       "4                     0.0               0.0                    5   \n",
       "...                   ...               ...                  ...   \n",
       "6928118               0.0               0.0                    1   \n",
       "6928119               0.0               0.0                    1   \n",
       "6928120               0.0               0.0                    1   \n",
       "6928121               0.0               0.0                    1   \n",
       "6928122               0.0               0.0                    1   \n",
       "\n",
       "         num_unique_aid  \n",
       "0                     1  \n",
       "1                     4  \n",
       "2                     4  \n",
       "3                     4  \n",
       "4                     4  \n",
       "...                 ...  \n",
       "6928118               1  \n",
       "6928119               1  \n",
       "6928120               1  \n",
       "6928121               1  \n",
       "6928122               1  \n",
       "\n",
       "[6928123 rows x 13 columns]"
      ]
     },
     "execution_count": 12,
     "metadata": {},
     "output_type": "execute_result"
    }
   ],
   "source": [
    "#// count number of unique aids in each session_real_id\n",
    "train_df['num_unique_aid'] = train_df.groupby('session_real_id')['aid'].transform('nunique')\n",
    "test_df['num_unique_aid'] = test_df.groupby('session_real_id')['aid'].transform('nunique')\n",
    "test_df"
   ]
  },
  {
   "cell_type": "code",
   "execution_count": 13,
   "metadata": {},
   "outputs": [],
   "source": [
    "train_df['num_unique_aid_0'] = train_df[train_df['type']==0].groupby('session_real_id')['aid'].transform('nunique')\n",
    "train_df['num_unique_aid_1'] = train_df[train_df['type']==1].groupby('session_real_id')['aid'].transform('nunique')\n",
    "train_df['num_unique_aid_2'] = train_df[train_df['type']==2].groupby('session_real_id')['aid'].transform('nunique')\n",
    "train_df = train_df.fillna(0)\n",
    "\n",
    "test_df['num_unique_aid_0'] = test_df[test_df['type']==0].groupby('session_real_id')['aid'].transform('nunique')\n",
    "test_df['num_unique_aid_1'] = test_df[test_df['type']==1].groupby('session_real_id')['aid'].transform('nunique')\n",
    "test_df['num_unique_aid_2'] = test_df[test_df['type']==2].groupby('session_real_id')['aid'].transform('nunique')\n",
    "test_df = test_df.fillna(0)\n"
   ]
  },
  {
   "cell_type": "code",
   "execution_count": 112,
   "metadata": {},
   "outputs": [
    {
     "data": {
      "text/plain": [
       "0.1      1.0\n",
       "0.2      1.0\n",
       "0.3      1.0\n",
       "0.4      1.0\n",
       "0.5      2.0\n",
       "0.6      2.0\n",
       "0.7      3.0\n",
       "0.8      5.0\n",
       "0.9      8.0\n",
       "1.0    486.0\n",
       "Name: num_unique_aid, dtype: float64"
      ]
     },
     "execution_count": 112,
     "metadata": {},
     "output_type": "execute_result"
    }
   ],
   "source": [
    "train_df.drop_duplicates(subset=['session_real_id'])['num_unique_aid'].quantile([0.1, 0.2, 0.3, 0.4, 0.5, 0.6, 0.7, 0.8, 0.9, 1])"
   ]
  },
  {
   "cell_type": "code",
   "execution_count": 113,
   "metadata": {},
   "outputs": [
    {
     "data": {
      "text/plain": [
       "0.1      1.0\n",
       "0.2      1.0\n",
       "0.3      1.0\n",
       "0.4      1.0\n",
       "0.5      1.0\n",
       "0.6      2.0\n",
       "0.7      2.0\n",
       "0.8      3.0\n",
       "0.9      5.0\n",
       "1.0    433.0\n",
       "Name: num_unique_aid, dtype: float64"
      ]
     },
     "execution_count": 113,
     "metadata": {},
     "output_type": "execute_result"
    }
   ],
   "source": [
    "test_df.drop_duplicates(subset=['session_real_id'])['num_unique_aid'].quantile([0.1, 0.2, 0.3, 0.4, 0.5, 0.6, 0.7, 0.8, 0.9, 1])"
   ]
  },
  {
   "cell_type": "code",
   "execution_count": 114,
   "metadata": {},
   "outputs": [
    {
     "data": {
      "text/plain": [
       "0.1      1.0\n",
       "0.2      1.0\n",
       "0.3      1.0\n",
       "0.4      1.0\n",
       "0.5      2.0\n",
       "0.6      2.0\n",
       "0.7      3.0\n",
       "0.8      5.0\n",
       "0.9      8.0\n",
       "1.0    486.0\n",
       "Name: num_unique_aid_0, dtype: float64"
      ]
     },
     "execution_count": 114,
     "metadata": {},
     "output_type": "execute_result"
    }
   ],
   "source": [
    "train_df.drop_duplicates(subset=['session_real_id'])['num_unique_aid_0'].quantile([0.1, 0.2, 0.3, 0.4, 0.5, 0.6, 0.7, 0.8, 0.9, 1])"
   ]
  },
  {
   "cell_type": "code",
   "execution_count": 115,
   "metadata": {},
   "outputs": [
    {
     "data": {
      "text/plain": [
       "0.100     0.0\n",
       "0.200     0.0\n",
       "0.300     0.0\n",
       "0.400     0.0\n",
       "0.990     0.0\n",
       "0.992     0.0\n",
       "0.994     0.0\n",
       "0.996     1.0\n",
       "0.998     1.0\n",
       "1.000    72.0\n",
       "Name: num_unique_aid_1, dtype: float64"
      ]
     },
     "execution_count": 115,
     "metadata": {},
     "output_type": "execute_result"
    }
   ],
   "source": [
    "train_df.drop_duplicates(subset=['session_real_id'])['num_unique_aid_1'].quantile([0.1, 0.2, 0.3, 0.4, 0.99, 0.992, 0.994, 0.996, 0.998, 1])\n"
   ]
  },
  {
   "cell_type": "code",
   "execution_count": 116,
   "metadata": {},
   "outputs": [
    {
     "data": {
      "text/plain": [
       "0.100     0.0\n",
       "0.200     0.0\n",
       "0.300     0.0\n",
       "0.400     0.0\n",
       "0.990     0.0\n",
       "0.992     0.0\n",
       "0.994     0.0\n",
       "0.996     0.0\n",
       "0.998     1.0\n",
       "1.000    52.0\n",
       "Name: num_unique_aid_2, dtype: float64"
      ]
     },
     "execution_count": 116,
     "metadata": {},
     "output_type": "execute_result"
    }
   ],
   "source": [
    "train_df.drop_duplicates(subset=['session_real_id'])['num_unique_aid_2'].quantile([0.1, 0.2, 0.3, 0.4, 0.99, 0.992, 0.994, 0.996, 0.998, 1])"
   ]
  },
  {
   "cell_type": "code",
   "execution_count": 120,
   "metadata": {},
   "outputs": [
    {
     "data": {
      "text/plain": [
       "0.1      1.0\n",
       "0.2      1.0\n",
       "0.3      1.0\n",
       "0.4      1.0\n",
       "0.5      1.0\n",
       "0.6      2.0\n",
       "0.7      2.0\n",
       "0.8      3.0\n",
       "0.9      5.0\n",
       "1.0    433.0\n",
       "Name: num_unique_aid_0, dtype: float64"
      ]
     },
     "execution_count": 120,
     "metadata": {},
     "output_type": "execute_result"
    }
   ],
   "source": [
    "test_df.drop_duplicates(subset=['session_real_id'])['num_unique_aid_0'].quantile([0.1, 0.2, 0.3, 0.4, 0.5, 0.6, 0.7, 0.8, 0.9, 1])\n"
   ]
  },
  {
   "cell_type": "code",
   "execution_count": 121,
   "metadata": {},
   "outputs": [
    {
     "data": {
      "text/plain": [
       "0.100     0.0\n",
       "0.200     0.0\n",
       "0.300     0.0\n",
       "0.400     0.0\n",
       "0.990     0.0\n",
       "0.992     0.0\n",
       "0.994     0.0\n",
       "0.996     0.0\n",
       "0.998     1.0\n",
       "1.000    31.0\n",
       "Name: num_unique_aid_1, dtype: float64"
      ]
     },
     "execution_count": 121,
     "metadata": {},
     "output_type": "execute_result"
    }
   ],
   "source": [
    "test_df.drop_duplicates(subset=['session_real_id'])['num_unique_aid_1'].quantile([0.1, 0.2, 0.3, 0.4, 0.99, 0.992, 0.994, 0.996, 0.998, 1])\n"
   ]
  },
  {
   "cell_type": "code",
   "execution_count": 122,
   "metadata": {},
   "outputs": [
    {
     "data": {
      "text/plain": [
       "0.100     0.0\n",
       "0.200     0.0\n",
       "0.300     0.0\n",
       "0.400     0.0\n",
       "0.990     0.0\n",
       "0.992     0.0\n",
       "0.994     0.0\n",
       "0.996     0.0\n",
       "0.998     0.0\n",
       "1.000    27.0\n",
       "Name: num_unique_aid_2, dtype: float64"
      ]
     },
     "execution_count": 122,
     "metadata": {},
     "output_type": "execute_result"
    }
   ],
   "source": [
    "test_df.drop_duplicates(subset=['session_real_id'])['num_unique_aid_2'].quantile([0.1, 0.2, 0.3, 0.4, 0.99, 0.992, 0.994, 0.996, 0.998, 1])"
   ]
  },
  {
   "cell_type": "code",
   "execution_count": null,
   "metadata": {},
   "outputs": [],
   "source": [
    "#count unique aids for each user and for each type of actions"
   ]
  },
  {
   "cell_type": "code",
   "execution_count": 14,
   "metadata": {},
   "outputs": [],
   "source": [
    "train_df['num_unique_aid_user'] = train_df.groupby('session')['aid'].transform('nunique')\n",
    "test_df['num_unique_aid_user'] = test_df.groupby('session')['aid'].transform('nunique')"
   ]
  },
  {
   "cell_type": "code",
   "execution_count": 15,
   "metadata": {},
   "outputs": [],
   "source": [
    "train_df['num_unique_aid_user_0'] = train_df[train_df['type']==0].groupby('session')['aid'].transform('nunique')\n",
    "train_df['num_unique_aid_user_1'] = train_df[train_df['type']==1].groupby('session')['aid'].transform('nunique')\n",
    "train_df['num_unique_aid_user_2'] = train_df[train_df['type']==2].groupby('session')['aid'].transform('nunique')\n",
    "train_df = train_df.fillna(0)\n",
    "\n",
    "test_df['num_unique_aid_user_0'] = test_df[test_df['type']==0].groupby('session')['aid'].transform('nunique')\n",
    "test_df['num_unique_aid_user_1'] = test_df[test_df['type']==1].groupby('session')['aid'].transform('nunique')\n",
    "test_df['num_unique_aid_user_2'] = test_df[test_df['type']==2].groupby('session')['aid'].transform('nunique')\n",
    "test_df = test_df.fillna(0)"
   ]
  },
  {
   "cell_type": "code",
   "execution_count": 125,
   "metadata": {},
   "outputs": [
    {
     "data": {
      "text/plain": [
       "0.1      2.0\n",
       "0.2      2.0\n",
       "0.3      2.0\n",
       "0.4      3.0\n",
       "0.5      4.0\n",
       "0.6      6.0\n",
       "0.7      8.0\n",
       "0.8     13.0\n",
       "0.9     24.0\n",
       "1.0    486.0\n",
       "Name: num_unique_aid_user, dtype: float64"
      ]
     },
     "execution_count": 125,
     "metadata": {},
     "output_type": "execute_result"
    }
   ],
   "source": [
    "train_df.drop_duplicates(subset=['session'])['num_unique_aid_user'].quantile([0.1, 0.2, 0.3, 0.4, 0.5, 0.6, 0.7, 0.8, 0.9, 1])"
   ]
  },
  {
   "cell_type": "code",
   "execution_count": 126,
   "metadata": {},
   "outputs": [
    {
     "data": {
      "text/plain": [
       "0.1      1.0\n",
       "0.2      1.0\n",
       "0.3      1.0\n",
       "0.4      1.0\n",
       "0.5      1.0\n",
       "0.6      2.0\n",
       "0.7      2.0\n",
       "0.8      4.0\n",
       "0.9      6.0\n",
       "1.0    433.0\n",
       "Name: num_unique_aid_user, dtype: float64"
      ]
     },
     "execution_count": 126,
     "metadata": {},
     "output_type": "execute_result"
    }
   ],
   "source": [
    "test_df.drop_duplicates(subset=['session'])['num_unique_aid_user'].quantile([0.1, 0.2, 0.3, 0.4, 0.5, 0.6, 0.7, 0.8, 0.9, 1])"
   ]
  },
  {
   "cell_type": "code",
   "execution_count": 127,
   "metadata": {},
   "outputs": [
    {
     "data": {
      "text/plain": [
       "0.1      2.0\n",
       "0.2      2.0\n",
       "0.3      2.0\n",
       "0.4      3.0\n",
       "0.5      4.0\n",
       "0.6      6.0\n",
       "0.7      8.0\n",
       "0.8     12.0\n",
       "0.9     23.0\n",
       "1.0    486.0\n",
       "Name: num_unique_aid_user_0, dtype: float64"
      ]
     },
     "execution_count": 127,
     "metadata": {},
     "output_type": "execute_result"
    }
   ],
   "source": [
    "train_df.drop_duplicates(subset=['session'])['num_unique_aid_user_0'].quantile([0.1, 0.2, 0.3, 0.4, 0.5, 0.6, 0.7, 0.8, 0.9, 1])"
   ]
  },
  {
   "cell_type": "code",
   "execution_count": 128,
   "metadata": {},
   "outputs": [
    {
     "data": {
      "text/plain": [
       "0.1      0.0\n",
       "0.2      0.0\n",
       "0.3      0.0\n",
       "0.4      0.0\n",
       "0.5      0.0\n",
       "0.6      0.0\n",
       "0.7      0.0\n",
       "0.8      0.0\n",
       "0.9      0.0\n",
       "1.0    117.0\n",
       "Name: num_unique_aid_user_1, dtype: float64"
      ]
     },
     "execution_count": 128,
     "metadata": {},
     "output_type": "execute_result"
    }
   ],
   "source": [
    "train_df.drop_duplicates(subset=['session'])['num_unique_aid_user_1'].quantile([0.1, 0.2, 0.3, 0.4, 0.5, 0.6, 0.7, 0.8, 0.9, 1])"
   ]
  },
  {
   "cell_type": "code",
   "execution_count": 129,
   "metadata": {},
   "outputs": [
    {
     "data": {
      "text/plain": [
       "0.1     0.0\n",
       "0.2     0.0\n",
       "0.3     0.0\n",
       "0.4     0.0\n",
       "0.5     0.0\n",
       "0.6     0.0\n",
       "0.7     0.0\n",
       "0.8     0.0\n",
       "0.9     0.0\n",
       "1.0    63.0\n",
       "Name: num_unique_aid_user_2, dtype: float64"
      ]
     },
     "execution_count": 129,
     "metadata": {},
     "output_type": "execute_result"
    }
   ],
   "source": [
    "train_df.drop_duplicates(subset=['session'])['num_unique_aid_user_2'].quantile([0.1, 0.2, 0.3, 0.4, 0.5, 0.6, 0.7, 0.8, 0.9, 1])"
   ]
  },
  {
   "cell_type": "code",
   "execution_count": 130,
   "metadata": {},
   "outputs": [
    {
     "data": {
      "text/plain": [
       "0.1      1.0\n",
       "0.2      1.0\n",
       "0.3      1.0\n",
       "0.4      1.0\n",
       "0.5      1.0\n",
       "0.6      2.0\n",
       "0.7      2.0\n",
       "0.8      4.0\n",
       "0.9      6.0\n",
       "1.0    433.0\n",
       "Name: num_unique_aid_user_0, dtype: float64"
      ]
     },
     "execution_count": 130,
     "metadata": {},
     "output_type": "execute_result"
    }
   ],
   "source": [
    "test_df.drop_duplicates(subset=['session'])['num_unique_aid_user_0'].quantile([0.1, 0.2, 0.3, 0.4, 0.5, 0.6, 0.7, 0.8, 0.9, 1])"
   ]
  },
  {
   "cell_type": "code",
   "execution_count": 131,
   "metadata": {},
   "outputs": [
    {
     "data": {
      "text/plain": [
       "0.1     0.0\n",
       "0.2     0.0\n",
       "0.3     0.0\n",
       "0.4     0.0\n",
       "0.5     0.0\n",
       "0.6     0.0\n",
       "0.7     0.0\n",
       "0.8     0.0\n",
       "0.9     0.0\n",
       "1.0    44.0\n",
       "Name: num_unique_aid_user_1, dtype: float64"
      ]
     },
     "execution_count": 131,
     "metadata": {},
     "output_type": "execute_result"
    }
   ],
   "source": [
    "test_df.drop_duplicates(subset=['session'])['num_unique_aid_user_1'].quantile([0.1, 0.2, 0.3, 0.4, 0.5, 0.6, 0.7, 0.8, 0.9, 1])"
   ]
  },
  {
   "cell_type": "code",
   "execution_count": 132,
   "metadata": {},
   "outputs": [
    {
     "data": {
      "text/plain": [
       "0.1     0.0\n",
       "0.2     0.0\n",
       "0.3     0.0\n",
       "0.4     0.0\n",
       "0.5     0.0\n",
       "0.6     0.0\n",
       "0.7     0.0\n",
       "0.8     0.0\n",
       "0.9     0.0\n",
       "1.0    27.0\n",
       "Name: num_unique_aid_user_2, dtype: float64"
      ]
     },
     "execution_count": 132,
     "metadata": {},
     "output_type": "execute_result"
    }
   ],
   "source": [
    "test_df.drop_duplicates(subset=['session'])['num_unique_aid_user_2'].quantile([0.1, 0.2, 0.3, 0.4, 0.5, 0.6, 0.7, 0.8, 0.9, 1])"
   ]
  },
  {
   "cell_type": "code",
   "execution_count": 16,
   "metadata": {},
   "outputs": [],
   "source": [
    "# // ordinary encoding session_real_id_encode in test_df and train_df dataframe with scikit learn OrdinalEncoder\n",
    "enc = OrdinalEncoder()\n",
    "\n",
    "test_df[\"session_real_id_encode\"] = enc.fit_transform(test_df[[\"session_real_id\"]])\n",
    "test_df[\"session_real_id_encode\"] = test_df[\"session_real_id_encode\"].astype(int)\n",
    "\n",
    "train_df['session_real_id_encode'] = enc.fit_transform(train_df[['session_real_id']])\n",
    "train_df['session_real_id_encode'] = train_df['session_real_id_encode'].astype(int)"
   ]
  },
  {
   "attachments": {},
   "cell_type": "markdown",
   "metadata": {},
   "source": [
    "### 3.3 Test session bechavior"
   ]
  },
  {
   "cell_type": "code",
   "execution_count": null,
   "metadata": {},
   "outputs": [],
   "source": [
    "### Paths ###\n",
    "DATA_PATH = Path('../data')\n",
    "TRAIN_RAW_PATH = DATA_PATH/'raw/train.jsonl'\n",
    "TEST_RAW_PATH = DATA_PATH/'raw/test.jsonl'\n",
    "SAMPLE_SUBMISSION_RAW_PATH = DATA_PATH/'raw/sample_submission.csv'\n",
    "\n",
    "DATA_PROCESSED_PATH = DATA_PATH/'processed'\n",
    "\n",
    "#// load data pandas\n",
    "train_df_mod = pd.read_parquet(DATA_PROCESSED_PATH/'train_processed.parquet')\n",
    "test_df_mod = pd.read_parquet(DATA_PROCESSED_PATH/'test_processed.parquet')"
   ]
  },
  {
   "cell_type": "code",
   "execution_count": null,
   "metadata": {},
   "outputs": [
    {
     "data": {
      "text/html": [
       "<div>\n",
       "<style scoped>\n",
       "    .dataframe tbody tr th:only-of-type {\n",
       "        vertical-align: middle;\n",
       "    }\n",
       "\n",
       "    .dataframe tbody tr th {\n",
       "        vertical-align: top;\n",
       "    }\n",
       "\n",
       "    .dataframe thead th {\n",
       "        text-align: right;\n",
       "    }\n",
       "</style>\n",
       "<table border=\"1\" class=\"dataframe\">\n",
       "  <thead>\n",
       "    <tr style=\"text-align: right;\">\n",
       "      <th></th>\n",
       "      <th>session</th>\n",
       "      <th>aid</th>\n",
       "      <th>ts</th>\n",
       "      <th>type</th>\n",
       "      <th>session_real</th>\n",
       "      <th>num_session_real</th>\n",
       "      <th>session_real_id</th>\n",
       "      <th>aid_count</th>\n",
       "      <th>aid_count_type_0</th>\n",
       "      <th>aid_count_type_1</th>\n",
       "      <th>...</th>\n",
       "      <th>num_session_real_id</th>\n",
       "      <th>num_unique_aid</th>\n",
       "      <th>num_unique_aid_0</th>\n",
       "      <th>num_unique_aid_1</th>\n",
       "      <th>num_unique_aid_2</th>\n",
       "      <th>num_unique_aid_user</th>\n",
       "      <th>num_unique_aid_user_0</th>\n",
       "      <th>num_unique_aid_user_1</th>\n",
       "      <th>num_unique_aid_user_2</th>\n",
       "      <th>session_real_id_encode</th>\n",
       "    </tr>\n",
       "  </thead>\n",
       "  <tbody>\n",
       "    <tr>\n",
       "      <th>0</th>\n",
       "      <td>12899779</td>\n",
       "      <td>59625</td>\n",
       "      <td>1661724000278</td>\n",
       "      <td>0</td>\n",
       "      <td>0</td>\n",
       "      <td>0</td>\n",
       "      <td>12899779_0</td>\n",
       "      <td>1</td>\n",
       "      <td>1.0</td>\n",
       "      <td>0.0</td>\n",
       "      <td>...</td>\n",
       "      <td>1</td>\n",
       "      <td>1</td>\n",
       "      <td>1.0</td>\n",
       "      <td>0.0</td>\n",
       "      <td>0.0</td>\n",
       "      <td>1</td>\n",
       "      <td>1.0</td>\n",
       "      <td>0.0</td>\n",
       "      <td>0.0</td>\n",
       "      <td>0</td>\n",
       "    </tr>\n",
       "    <tr>\n",
       "      <th>1</th>\n",
       "      <td>12899780</td>\n",
       "      <td>1142000</td>\n",
       "      <td>1661724000378</td>\n",
       "      <td>0</td>\n",
       "      <td>0</td>\n",
       "      <td>0</td>\n",
       "      <td>12899780_0</td>\n",
       "      <td>511</td>\n",
       "      <td>473.0</td>\n",
       "      <td>0.0</td>\n",
       "      <td>...</td>\n",
       "      <td>5</td>\n",
       "      <td>4</td>\n",
       "      <td>4.0</td>\n",
       "      <td>0.0</td>\n",
       "      <td>0.0</td>\n",
       "      <td>4</td>\n",
       "      <td>4.0</td>\n",
       "      <td>0.0</td>\n",
       "      <td>0.0</td>\n",
       "      <td>1</td>\n",
       "    </tr>\n",
       "    <tr>\n",
       "      <th>2</th>\n",
       "      <td>12899780</td>\n",
       "      <td>582732</td>\n",
       "      <td>1661724058352</td>\n",
       "      <td>0</td>\n",
       "      <td>0</td>\n",
       "      <td>0</td>\n",
       "      <td>12899780_0</td>\n",
       "      <td>371</td>\n",
       "      <td>333.0</td>\n",
       "      <td>0.0</td>\n",
       "      <td>...</td>\n",
       "      <td>5</td>\n",
       "      <td>4</td>\n",
       "      <td>4.0</td>\n",
       "      <td>0.0</td>\n",
       "      <td>0.0</td>\n",
       "      <td>4</td>\n",
       "      <td>4.0</td>\n",
       "      <td>0.0</td>\n",
       "      <td>0.0</td>\n",
       "      <td>1</td>\n",
       "    </tr>\n",
       "    <tr>\n",
       "      <th>3</th>\n",
       "      <td>12899780</td>\n",
       "      <td>973453</td>\n",
       "      <td>1661724109199</td>\n",
       "      <td>0</td>\n",
       "      <td>0</td>\n",
       "      <td>0</td>\n",
       "      <td>12899780_0</td>\n",
       "      <td>94</td>\n",
       "      <td>87.0</td>\n",
       "      <td>0.0</td>\n",
       "      <td>...</td>\n",
       "      <td>5</td>\n",
       "      <td>4</td>\n",
       "      <td>4.0</td>\n",
       "      <td>0.0</td>\n",
       "      <td>0.0</td>\n",
       "      <td>4</td>\n",
       "      <td>4.0</td>\n",
       "      <td>0.0</td>\n",
       "      <td>0.0</td>\n",
       "      <td>1</td>\n",
       "    </tr>\n",
       "    <tr>\n",
       "      <th>4</th>\n",
       "      <td>12899780</td>\n",
       "      <td>736515</td>\n",
       "      <td>1661724136868</td>\n",
       "      <td>0</td>\n",
       "      <td>0</td>\n",
       "      <td>0</td>\n",
       "      <td>12899780_0</td>\n",
       "      <td>563</td>\n",
       "      <td>488.0</td>\n",
       "      <td>0.0</td>\n",
       "      <td>...</td>\n",
       "      <td>5</td>\n",
       "      <td>4</td>\n",
       "      <td>4.0</td>\n",
       "      <td>0.0</td>\n",
       "      <td>0.0</td>\n",
       "      <td>4</td>\n",
       "      <td>4.0</td>\n",
       "      <td>0.0</td>\n",
       "      <td>0.0</td>\n",
       "      <td>1</td>\n",
       "    </tr>\n",
       "  </tbody>\n",
       "</table>\n",
       "<p>5 rows × 21 columns</p>\n",
       "</div>"
      ],
      "text/plain": [
       "    session      aid             ts  type  session_real  num_session_real  \\\n",
       "0  12899779    59625  1661724000278     0             0                 0   \n",
       "1  12899780  1142000  1661724000378     0             0                 0   \n",
       "2  12899780   582732  1661724058352     0             0                 0   \n",
       "3  12899780   973453  1661724109199     0             0                 0   \n",
       "4  12899780   736515  1661724136868     0             0                 0   \n",
       "\n",
       "  session_real_id  aid_count  aid_count_type_0  aid_count_type_1  ...  \\\n",
       "0      12899779_0          1               1.0               0.0  ...   \n",
       "1      12899780_0        511             473.0               0.0  ...   \n",
       "2      12899780_0        371             333.0               0.0  ...   \n",
       "3      12899780_0         94              87.0               0.0  ...   \n",
       "4      12899780_0        563             488.0               0.0  ...   \n",
       "\n",
       "   num_session_real_id  num_unique_aid  num_unique_aid_0  num_unique_aid_1  \\\n",
       "0                    1               1               1.0               0.0   \n",
       "1                    5               4               4.0               0.0   \n",
       "2                    5               4               4.0               0.0   \n",
       "3                    5               4               4.0               0.0   \n",
       "4                    5               4               4.0               0.0   \n",
       "\n",
       "   num_unique_aid_2  num_unique_aid_user  num_unique_aid_user_0  \\\n",
       "0               0.0                    1                    1.0   \n",
       "1               0.0                    4                    4.0   \n",
       "2               0.0                    4                    4.0   \n",
       "3               0.0                    4                    4.0   \n",
       "4               0.0                    4                    4.0   \n",
       "\n",
       "   num_unique_aid_user_1  num_unique_aid_user_2  session_real_id_encode  \n",
       "0                    0.0                    0.0                       0  \n",
       "1                    0.0                    0.0                       1  \n",
       "2                    0.0                    0.0                       1  \n",
       "3                    0.0                    0.0                       1  \n",
       "4                    0.0                    0.0                       1  \n",
       "\n",
       "[5 rows x 21 columns]"
      ]
     },
     "metadata": {},
     "output_type": "display_data"
    }
   ],
   "source": [
    "test_df_mod.head()"
   ]
  },
  {
   "cell_type": "code",
   "execution_count": 4,
   "metadata": {},
   "outputs": [
    {
     "name": "stdout",
     "output_type": "stream",
     "text": [
      "<class 'pandas.core.frame.DataFrame'>\n",
      "RangeIndex: 6928123 entries, 0 to 6928122\n",
      "Data columns (total 21 columns):\n",
      " #   Column                  Dtype  \n",
      "---  ------                  -----  \n",
      " 0   session                 int64  \n",
      " 1   aid                     int64  \n",
      " 2   ts                      int64  \n",
      " 3   type                    uint8  \n",
      " 4   session_real            int8   \n",
      " 5   num_session_real        int8   \n",
      " 6   session_real_id         object \n",
      " 7   aid_count               int64  \n",
      " 8   aid_count_type_0        float64\n",
      " 9   aid_count_type_1        float64\n",
      " 10  aid_count_type_2        float64\n",
      " 11  num_session_real_id     int64  \n",
      " 12  num_unique_aid          int64  \n",
      " 13  num_unique_aid_0        float64\n",
      " 14  num_unique_aid_1        float64\n",
      " 15  num_unique_aid_2        float64\n",
      " 16  num_unique_aid_user     int64  \n",
      " 17  num_unique_aid_user_0   float64\n",
      " 18  num_unique_aid_user_1   float64\n",
      " 19  num_unique_aid_user_2   float64\n",
      " 20  session_real_id_encode  int64  \n",
      "dtypes: float64(9), int64(8), int8(2), object(1), uint8(1)\n",
      "memory usage: 971.3+ MB\n"
     ]
    }
   ],
   "source": [
    "test_df_mod.info()"
   ]
  },
  {
   "cell_type": "code",
   "execution_count": 7,
   "metadata": {},
   "outputs": [
    {
     "data": {
      "text/plain": [
       "<AxesSubplot:ylabel='Frequency'>"
      ]
     },
     "execution_count": 7,
     "metadata": {},
     "output_type": "execute_result"
    },
    {
     "data": {
      "image/png": "[encoded data removed]",
      "text/plain": [
       "<Figure size 640x480 with 1 Axes>"
      ]
     },
     "metadata": {},
     "output_type": "display_data"
    }
   ],
   "source": [
    "test_df_mod.drop_duplicates(subset=['session_real_id_encode'])['num_session_real'].plot(kind='hist', bins=20)"
   ]
  },
  {
   "cell_type": "code",
   "execution_count": 8,
   "metadata": {},
   "outputs": [
    {
     "data": {
      "text/html": [
       "<div>\n",
       "<style scoped>\n",
       "    .dataframe tbody tr th:only-of-type {\n",
       "        vertical-align: middle;\n",
       "    }\n",
       "\n",
       "    .dataframe tbody tr th {\n",
       "        vertical-align: top;\n",
       "    }\n",
       "\n",
       "    .dataframe thead th {\n",
       "        text-align: right;\n",
       "    }\n",
       "</style>\n",
       "<table border=\"1\" class=\"dataframe\">\n",
       "  <thead>\n",
       "    <tr style=\"text-align: right;\">\n",
       "      <th></th>\n",
       "      <th>session</th>\n",
       "      <th>aid</th>\n",
       "      <th>ts</th>\n",
       "      <th>type</th>\n",
       "      <th>session_real</th>\n",
       "      <th>num_session_real</th>\n",
       "      <th>session_real_id</th>\n",
       "      <th>aid_count</th>\n",
       "      <th>aid_count_type_0</th>\n",
       "      <th>aid_count_type_1</th>\n",
       "      <th>...</th>\n",
       "      <th>num_session_real_id</th>\n",
       "      <th>num_unique_aid</th>\n",
       "      <th>num_unique_aid_0</th>\n",
       "      <th>num_unique_aid_1</th>\n",
       "      <th>num_unique_aid_2</th>\n",
       "      <th>num_unique_aid_user</th>\n",
       "      <th>num_unique_aid_user_0</th>\n",
       "      <th>num_unique_aid_user_1</th>\n",
       "      <th>num_unique_aid_user_2</th>\n",
       "      <th>session_real_id_encode</th>\n",
       "    </tr>\n",
       "  </thead>\n",
       "  <tbody>\n",
       "    <tr>\n",
       "      <th>0</th>\n",
       "      <td>12899779</td>\n",
       "      <td>59625</td>\n",
       "      <td>1661724000278</td>\n",
       "      <td>0</td>\n",
       "      <td>0</td>\n",
       "      <td>0</td>\n",
       "      <td>12899779_0</td>\n",
       "      <td>1</td>\n",
       "      <td>1.0</td>\n",
       "      <td>0.0</td>\n",
       "      <td>...</td>\n",
       "      <td>1</td>\n",
       "      <td>1</td>\n",
       "      <td>1.0</td>\n",
       "      <td>0.0</td>\n",
       "      <td>0.0</td>\n",
       "      <td>1</td>\n",
       "      <td>1.0</td>\n",
       "      <td>0.0</td>\n",
       "      <td>0.0</td>\n",
       "      <td>0</td>\n",
       "    </tr>\n",
       "    <tr>\n",
       "      <th>1</th>\n",
       "      <td>12899780</td>\n",
       "      <td>1142000</td>\n",
       "      <td>1661724000378</td>\n",
       "      <td>0</td>\n",
       "      <td>0</td>\n",
       "      <td>0</td>\n",
       "      <td>12899780_0</td>\n",
       "      <td>511</td>\n",
       "      <td>473.0</td>\n",
       "      <td>0.0</td>\n",
       "      <td>...</td>\n",
       "      <td>5</td>\n",
       "      <td>4</td>\n",
       "      <td>4.0</td>\n",
       "      <td>0.0</td>\n",
       "      <td>0.0</td>\n",
       "      <td>4</td>\n",
       "      <td>4.0</td>\n",
       "      <td>0.0</td>\n",
       "      <td>0.0</td>\n",
       "      <td>1</td>\n",
       "    </tr>\n",
       "    <tr>\n",
       "      <th>6</th>\n",
       "      <td>12899781</td>\n",
       "      <td>141736</td>\n",
       "      <td>1661724000559</td>\n",
       "      <td>0</td>\n",
       "      <td>0</td>\n",
       "      <td>3</td>\n",
       "      <td>12899781_0</td>\n",
       "      <td>253</td>\n",
       "      <td>231.0</td>\n",
       "      <td>0.0</td>\n",
       "      <td>...</td>\n",
       "      <td>4</td>\n",
       "      <td>4</td>\n",
       "      <td>4.0</td>\n",
       "      <td>0.0</td>\n",
       "      <td>0.0</td>\n",
       "      <td>5</td>\n",
       "      <td>5.0</td>\n",
       "      <td>0.0</td>\n",
       "      <td>0.0</td>\n",
       "      <td>2</td>\n",
       "    </tr>\n",
       "    <tr>\n",
       "      <th>10</th>\n",
       "      <td>12899781</td>\n",
       "      <td>199008</td>\n",
       "      <td>1661780623778</td>\n",
       "      <td>0</td>\n",
       "      <td>1</td>\n",
       "      <td>3</td>\n",
       "      <td>12899781_1</td>\n",
       "      <td>437</td>\n",
       "      <td>400.0</td>\n",
       "      <td>0.0</td>\n",
       "      <td>...</td>\n",
       "      <td>3</td>\n",
       "      <td>1</td>\n",
       "      <td>1.0</td>\n",
       "      <td>0.0</td>\n",
       "      <td>0.0</td>\n",
       "      <td>5</td>\n",
       "      <td>5.0</td>\n",
       "      <td>0.0</td>\n",
       "      <td>0.0</td>\n",
       "      <td>3</td>\n",
       "    </tr>\n",
       "    <tr>\n",
       "      <th>13</th>\n",
       "      <td>12899781</td>\n",
       "      <td>199008</td>\n",
       "      <td>1661804151788</td>\n",
       "      <td>0</td>\n",
       "      <td>2</td>\n",
       "      <td>3</td>\n",
       "      <td>12899781_2</td>\n",
       "      <td>437</td>\n",
       "      <td>400.0</td>\n",
       "      <td>0.0</td>\n",
       "      <td>...</td>\n",
       "      <td>1</td>\n",
       "      <td>1</td>\n",
       "      <td>1.0</td>\n",
       "      <td>0.0</td>\n",
       "      <td>0.0</td>\n",
       "      <td>5</td>\n",
       "      <td>5.0</td>\n",
       "      <td>0.0</td>\n",
       "      <td>0.0</td>\n",
       "      <td>4</td>\n",
       "    </tr>\n",
       "    <tr>\n",
       "      <th>...</th>\n",
       "      <td>...</td>\n",
       "      <td>...</td>\n",
       "      <td>...</td>\n",
       "      <td>...</td>\n",
       "      <td>...</td>\n",
       "      <td>...</td>\n",
       "      <td>...</td>\n",
       "      <td>...</td>\n",
       "      <td>...</td>\n",
       "      <td>...</td>\n",
       "      <td>...</td>\n",
       "      <td>...</td>\n",
       "      <td>...</td>\n",
       "      <td>...</td>\n",
       "      <td>...</td>\n",
       "      <td>...</td>\n",
       "      <td>...</td>\n",
       "      <td>...</td>\n",
       "      <td>...</td>\n",
       "      <td>...</td>\n",
       "      <td>...</td>\n",
       "    </tr>\n",
       "    <tr>\n",
       "      <th>6928118</th>\n",
       "      <td>14571577</td>\n",
       "      <td>1141710</td>\n",
       "      <td>1662328774770</td>\n",
       "      <td>0</td>\n",
       "      <td>0</td>\n",
       "      <td>0</td>\n",
       "      <td>14571577_0</td>\n",
       "      <td>6</td>\n",
       "      <td>6.0</td>\n",
       "      <td>0.0</td>\n",
       "      <td>...</td>\n",
       "      <td>1</td>\n",
       "      <td>1</td>\n",
       "      <td>1.0</td>\n",
       "      <td>0.0</td>\n",
       "      <td>0.0</td>\n",
       "      <td>1</td>\n",
       "      <td>1.0</td>\n",
       "      <td>0.0</td>\n",
       "      <td>0.0</td>\n",
       "      <td>1927205</td>\n",
       "    </tr>\n",
       "    <tr>\n",
       "      <th>6928119</th>\n",
       "      <td>14571578</td>\n",
       "      <td>519105</td>\n",
       "      <td>1662328775009</td>\n",
       "      <td>0</td>\n",
       "      <td>0</td>\n",
       "      <td>0</td>\n",
       "      <td>14571578_0</td>\n",
       "      <td>8</td>\n",
       "      <td>8.0</td>\n",
       "      <td>0.0</td>\n",
       "      <td>...</td>\n",
       "      <td>1</td>\n",
       "      <td>1</td>\n",
       "      <td>1.0</td>\n",
       "      <td>0.0</td>\n",
       "      <td>0.0</td>\n",
       "      <td>1</td>\n",
       "      <td>1.0</td>\n",
       "      <td>0.0</td>\n",
       "      <td>0.0</td>\n",
       "      <td>1927206</td>\n",
       "    </tr>\n",
       "    <tr>\n",
       "      <th>6928120</th>\n",
       "      <td>14571579</td>\n",
       "      <td>739876</td>\n",
       "      <td>1662328775605</td>\n",
       "      <td>0</td>\n",
       "      <td>0</td>\n",
       "      <td>0</td>\n",
       "      <td>14571579_0</td>\n",
       "      <td>29</td>\n",
       "      <td>24.0</td>\n",
       "      <td>0.0</td>\n",
       "      <td>...</td>\n",
       "      <td>1</td>\n",
       "      <td>1</td>\n",
       "      <td>1.0</td>\n",
       "      <td>0.0</td>\n",
       "      <td>0.0</td>\n",
       "      <td>1</td>\n",
       "      <td>1.0</td>\n",
       "      <td>0.0</td>\n",
       "      <td>0.0</td>\n",
       "      <td>1927207</td>\n",
       "    </tr>\n",
       "    <tr>\n",
       "      <th>6928121</th>\n",
       "      <td>14571580</td>\n",
       "      <td>202353</td>\n",
       "      <td>1662328781067</td>\n",
       "      <td>0</td>\n",
       "      <td>0</td>\n",
       "      <td>0</td>\n",
       "      <td>14571580_0</td>\n",
       "      <td>20</td>\n",
       "      <td>19.0</td>\n",
       "      <td>0.0</td>\n",
       "      <td>...</td>\n",
       "      <td>1</td>\n",
       "      <td>1</td>\n",
       "      <td>1.0</td>\n",
       "      <td>0.0</td>\n",
       "      <td>0.0</td>\n",
       "      <td>1</td>\n",
       "      <td>1.0</td>\n",
       "      <td>0.0</td>\n",
       "      <td>0.0</td>\n",
       "      <td>1927208</td>\n",
       "    </tr>\n",
       "    <tr>\n",
       "      <th>6928122</th>\n",
       "      <td>14571581</td>\n",
       "      <td>1100210</td>\n",
       "      <td>1662328791563</td>\n",
       "      <td>0</td>\n",
       "      <td>0</td>\n",
       "      <td>0</td>\n",
       "      <td>14571581_0</td>\n",
       "      <td>156</td>\n",
       "      <td>151.0</td>\n",
       "      <td>0.0</td>\n",
       "      <td>...</td>\n",
       "      <td>1</td>\n",
       "      <td>1</td>\n",
       "      <td>1.0</td>\n",
       "      <td>0.0</td>\n",
       "      <td>0.0</td>\n",
       "      <td>1</td>\n",
       "      <td>1.0</td>\n",
       "      <td>0.0</td>\n",
       "      <td>0.0</td>\n",
       "      <td>1927209</td>\n",
       "    </tr>\n",
       "  </tbody>\n",
       "</table>\n",
       "<p>1927210 rows × 21 columns</p>\n",
       "</div>"
      ],
      "text/plain": [
       "          session      aid             ts  type  session_real  \\\n",
       "0        12899779    59625  1661724000278     0             0   \n",
       "1        12899780  1142000  1661724000378     0             0   \n",
       "6        12899781   141736  1661724000559     0             0   \n",
       "10       12899781   199008  1661780623778     0             1   \n",
       "13       12899781   199008  1661804151788     0             2   \n",
       "...           ...      ...            ...   ...           ...   \n",
       "6928118  14571577  1141710  1662328774770     0             0   \n",
       "6928119  14571578   519105  1662328775009     0             0   \n",
       "6928120  14571579   739876  1662328775605     0             0   \n",
       "6928121  14571580   202353  1662328781067     0             0   \n",
       "6928122  14571581  1100210  1662328791563     0             0   \n",
       "\n",
       "         num_session_real session_real_id  aid_count  aid_count_type_0  \\\n",
       "0                       0      12899779_0          1               1.0   \n",
       "1                       0      12899780_0        511             473.0   \n",
       "6                       3      12899781_0        253             231.0   \n",
       "10                      3      12899781_1        437             400.0   \n",
       "13                      3      12899781_2        437             400.0   \n",
       "...                   ...             ...        ...               ...   \n",
       "6928118                 0      14571577_0          6               6.0   \n",
       "6928119                 0      14571578_0          8               8.0   \n",
       "6928120                 0      14571579_0         29              24.0   \n",
       "6928121                 0      14571580_0         20              19.0   \n",
       "6928122                 0      14571581_0        156             151.0   \n",
       "\n",
       "         aid_count_type_1  ...  num_session_real_id  num_unique_aid  \\\n",
       "0                     0.0  ...                    1               1   \n",
       "1                     0.0  ...                    5               4   \n",
       "6                     0.0  ...                    4               4   \n",
       "10                    0.0  ...                    3               1   \n",
       "13                    0.0  ...                    1               1   \n",
       "...                   ...  ...                  ...             ...   \n",
       "6928118               0.0  ...                    1               1   \n",
       "6928119               0.0  ...                    1               1   \n",
       "6928120               0.0  ...                    1               1   \n",
       "6928121               0.0  ...                    1               1   \n",
       "6928122               0.0  ...                    1               1   \n",
       "\n",
       "         num_unique_aid_0  num_unique_aid_1  num_unique_aid_2  \\\n",
       "0                     1.0               0.0               0.0   \n",
       "1                     4.0               0.0               0.0   \n",
       "6                     4.0               0.0               0.0   \n",
       "10                    1.0               0.0               0.0   \n",
       "13                    1.0               0.0               0.0   \n",
       "...                   ...               ...               ...   \n",
       "6928118               1.0               0.0               0.0   \n",
       "6928119               1.0               0.0               0.0   \n",
       "6928120               1.0               0.0               0.0   \n",
       "6928121               1.0               0.0               0.0   \n",
       "6928122               1.0               0.0               0.0   \n",
       "\n",
       "         num_unique_aid_user  num_unique_aid_user_0  num_unique_aid_user_1  \\\n",
       "0                          1                    1.0                    0.0   \n",
       "1                          4                    4.0                    0.0   \n",
       "6                          5                    5.0                    0.0   \n",
       "10                         5                    5.0                    0.0   \n",
       "13                         5                    5.0                    0.0   \n",
       "...                      ...                    ...                    ...   \n",
       "6928118                    1                    1.0                    0.0   \n",
       "6928119                    1                    1.0                    0.0   \n",
       "6928120                    1                    1.0                    0.0   \n",
       "6928121                    1                    1.0                    0.0   \n",
       "6928122                    1                    1.0                    0.0   \n",
       "\n",
       "         num_unique_aid_user_2  session_real_id_encode  \n",
       "0                          0.0                       0  \n",
       "1                          0.0                       1  \n",
       "6                          0.0                       2  \n",
       "10                         0.0                       3  \n",
       "13                         0.0                       4  \n",
       "...                        ...                     ...  \n",
       "6928118                    0.0                 1927205  \n",
       "6928119                    0.0                 1927206  \n",
       "6928120                    0.0                 1927207  \n",
       "6928121                    0.0                 1927208  \n",
       "6928122                    0.0                 1927209  \n",
       "\n",
       "[1927210 rows x 21 columns]"
      ]
     },
     "execution_count": 8,
     "metadata": {},
     "output_type": "execute_result"
    }
   ],
   "source": [
    "test_df_mod.drop_duplicates(subset=['session_real_id_encode'])"
   ]
  },
  {
   "cell_type": "code",
   "execution_count": 12,
   "metadata": {},
   "outputs": [
    {
     "data": {
      "text/plain": [
       "<AxesSubplot:ylabel='Frequency'>"
      ]
     },
     "execution_count": 12,
     "metadata": {},
     "output_type": "execute_result"
    },
    {
     "data": {
      "image/png": "[encoded data removed]",
      "text/plain": [
       "<Figure size 640x480 with 1 Axes>"
      ]
     },
     "metadata": {},
     "output_type": "display_data"
    }
   ],
   "source": [
    "test_df_mod.drop_duplicates(subset=[\"session_real_id_encode\"])[\n",
    "    test_df_mod.num_session_real == 0\n",
    "][\"num_unique_aid\"].plot(kind=\"hist\", bins=100, range=(0,10))"
   ]
  },
  {
   "cell_type": "code",
   "execution_count": 16,
   "metadata": {},
   "outputs": [
    {
     "data": {
      "text/plain": [
       "<AxesSubplot:ylabel='Frequency'>"
      ]
     },
     "execution_count": 16,
     "metadata": {},
     "output_type": "execute_result"
    },
    {
     "data": {
      "image/png": "[encoded data removed]",
      "text/plain": [
       "<Figure size 640x480 with 1 Axes>"
      ]
     },
     "metadata": {},
     "output_type": "display_data"
    }
   ],
   "source": [
    "test_df_mod.drop_duplicates(subset=[\"session_real_id_encode\"])[\n",
    "    test_df_mod.num_session_real == 0\n",
    "][\"num_unique_aid_0\"].plot(kind=\"hist\", bins=100, range=(0,10))"
   ]
  },
  {
   "cell_type": "code",
   "execution_count": 19,
   "metadata": {},
   "outputs": [
    {
     "data": {
      "text/plain": [
       "<AxesSubplot:ylabel='Frequency'>"
      ]
     },
     "execution_count": 19,
     "metadata": {},
     "output_type": "execute_result"
    },
    {
     "data": {
      "image/png": "[encoded data removed]",
      "text/plain": [
       "<Figure size 640x480 with 1 Axes>"
      ]
     },
     "metadata": {},
     "output_type": "display_data"
    }
   ],
   "source": [
    "test_df_mod.drop_duplicates(subset=[\"session_real_id_encode\"])[\n",
    "    test_df_mod.num_session_real == 0\n",
    "][\"num_unique_aid_2\"].plot(kind=\"hist\", bins=100, range=(0,5))"
   ]
  },
  {
   "cell_type": "code",
   "execution_count": 15,
   "metadata": {},
   "outputs": [
    {
     "data": {
      "text/plain": [
       "<AxesSubplot:ylabel='Frequency'>"
      ]
     },
     "execution_count": 15,
     "metadata": {},
     "output_type": "execute_result"
    },
    {
     "data": {
      "image/png": "[encoded data removed]",
      "text/plain": [
       "<Figure size 640x480 with 1 Axes>"
      ]
     },
     "metadata": {},
     "output_type": "display_data"
    }
   ],
   "source": [
    "test_df_mod.drop_duplicates(subset=[\"session_real_id_encode\"])[\"num_unique_aid\"].plot(kind=\"hist\", bins=100, range=(20,30))"
   ]
  },
  {
   "cell_type": "code",
   "execution_count": null,
   "metadata": {},
   "outputs": [],
   "source": [
    "test_df_mod.drop_duplicates(subset=[\"session_real_id_encode\"])[\"num_unique_aid_2\"].plot(kind=\"hist\", bins=100, range=(0,30))"
   ]
  },
  {
   "cell_type": "code",
   "execution_count": 14,
   "metadata": {},
   "outputs": [
    {
     "data": {
      "text/plain": [
       "<AxesSubplot:ylabel='Frequency'>"
      ]
     },
     "execution_count": 14,
     "metadata": {},
     "output_type": "execute_result"
    },
    {
     "data": {
      "image/png": "[encoded data removed]",
      "text/plain": [
       "<Figure size 640x480 with 1 Axes>"
      ]
     },
     "metadata": {},
     "output_type": "display_data"
    }
   ],
   "source": [
    "test_df_mod.drop_duplicates(subset=[\"session\"])[\"num_unique_aid_user\"].plot(kind=\"hist\", bins=100, range=(20,30))"
   ]
  },
  {
   "cell_type": "code",
   "execution_count": 17,
   "metadata": {},
   "outputs": [],
   "source": [
    "# write data\n",
    "train_df.to_parquet(DATA_PROCESSED_PATH/'train_processed.parquet', index=False)\n",
    "test_df.to_parquet(DATA_PROCESSED_PATH/'test_processed.parquet', index=False)"
   ]
  },
  {
   "attachments": {},
   "cell_type": "markdown",
   "metadata": {},
   "source": [
    "## 4.Baseline"
   ]
  },
  {
   "cell_type": "code",
   "execution_count": 22,
   "metadata": {},
   "outputs": [
    {
     "name": "stdout",
     "output_type": "stream",
     "text": [
      "We have 1,671,803 lines in the test data\n"
     ]
    }
   ],
   "source": [
    "with open(TEST_RAW_PATH, 'r') as f:\n",
    "    print(f\"We have {len(f.readlines()):,} lines in the test data\")"
   ]
  },
  {
   "cell_type": "code",
   "execution_count": 23,
   "metadata": {},
   "outputs": [],
   "source": [
    "# Load in a sample to a pandas df\n",
    "\n",
    "sample_size = 150\n",
    "\n",
    "chunks = pd.read_json(TEST_RAW_PATH, lines=True, chunksize = sample_size)\n",
    "\n",
    "for c in chunks:\n",
    "    sample_test_df = c\n",
    "    break"
   ]
  },
  {
   "cell_type": "code",
   "execution_count": 24,
   "metadata": {},
   "outputs": [
    {
     "data": {
      "text/html": [
       "<div>\n",
       "<style scoped>\n",
       "    .dataframe tbody tr th:only-of-type {\n",
       "        vertical-align: middle;\n",
       "    }\n",
       "\n",
       "    .dataframe tbody tr th {\n",
       "        vertical-align: top;\n",
       "    }\n",
       "\n",
       "    .dataframe thead th {\n",
       "        text-align: right;\n",
       "    }\n",
       "</style>\n",
       "<table border=\"1\" class=\"dataframe\">\n",
       "  <thead>\n",
       "    <tr style=\"text-align: right;\">\n",
       "      <th></th>\n",
       "      <th>session</th>\n",
       "      <th>events</th>\n",
       "    </tr>\n",
       "  </thead>\n",
       "  <tbody>\n",
       "    <tr>\n",
       "      <th>0</th>\n",
       "      <td>12899779</td>\n",
       "      <td>[{'aid': 59625, 'ts': 1661724000278, 'type': '...</td>\n",
       "    </tr>\n",
       "    <tr>\n",
       "      <th>1</th>\n",
       "      <td>12899780</td>\n",
       "      <td>[{'aid': 1142000, 'ts': 1661724000378, 'type':...</td>\n",
       "    </tr>\n",
       "    <tr>\n",
       "      <th>2</th>\n",
       "      <td>12899781</td>\n",
       "      <td>[{'aid': 141736, 'ts': 1661724000559, 'type': ...</td>\n",
       "    </tr>\n",
       "    <tr>\n",
       "      <th>3</th>\n",
       "      <td>12899782</td>\n",
       "      <td>[{'aid': 1669402, 'ts': 1661724000568, 'type':...</td>\n",
       "    </tr>\n",
       "    <tr>\n",
       "      <th>4</th>\n",
       "      <td>12899783</td>\n",
       "      <td>[{'aid': 255297, 'ts': 1661724000572, 'type': ...</td>\n",
       "    </tr>\n",
       "  </tbody>\n",
       "</table>\n",
       "</div>"
      ],
      "text/plain": [
       "    session                                             events\n",
       "0  12899779  [{'aid': 59625, 'ts': 1661724000278, 'type': '...\n",
       "1  12899780  [{'aid': 1142000, 'ts': 1661724000378, 'type':...\n",
       "2  12899781  [{'aid': 141736, 'ts': 1661724000559, 'type': ...\n",
       "3  12899782  [{'aid': 1669402, 'ts': 1661724000568, 'type':...\n",
       "4  12899783  [{'aid': 255297, 'ts': 1661724000572, 'type': ..."
      ]
     },
     "execution_count": 24,
     "metadata": {},
     "output_type": "execute_result"
    }
   ],
   "source": [
    "sample_test_df.head()"
   ]
  },
  {
   "cell_type": "code",
   "execution_count": 27,
   "metadata": {},
   "outputs": [
    {
     "data": {
      "text/html": [
       "<div>\n",
       "<style scoped>\n",
       "    .dataframe tbody tr th:only-of-type {\n",
       "        vertical-align: middle;\n",
       "    }\n",
       "\n",
       "    .dataframe tbody tr th {\n",
       "        vertical-align: top;\n",
       "    }\n",
       "\n",
       "    .dataframe thead th {\n",
       "        text-align: right;\n",
       "    }\n",
       "</style>\n",
       "<table border=\"1\" class=\"dataframe\">\n",
       "  <thead>\n",
       "    <tr style=\"text-align: right;\">\n",
       "      <th></th>\n",
       "      <th>session_type</th>\n",
       "      <th>labels</th>\n",
       "    </tr>\n",
       "  </thead>\n",
       "  <tbody>\n",
       "    <tr>\n",
       "      <th>0</th>\n",
       "      <td>12899779_clicks</td>\n",
       "      <td>129004 126836 118524</td>\n",
       "    </tr>\n",
       "    <tr>\n",
       "      <th>1</th>\n",
       "      <td>12899779_carts</td>\n",
       "      <td>129004 126836 118524</td>\n",
       "    </tr>\n",
       "    <tr>\n",
       "      <th>2</th>\n",
       "      <td>12899779_orders</td>\n",
       "      <td>129004 126836 118524</td>\n",
       "    </tr>\n",
       "    <tr>\n",
       "      <th>3</th>\n",
       "      <td>12899780_clicks</td>\n",
       "      <td>129004 126836 118524</td>\n",
       "    </tr>\n",
       "    <tr>\n",
       "      <th>4</th>\n",
       "      <td>12899780_carts</td>\n",
       "      <td>129004 126836 118524</td>\n",
       "    </tr>\n",
       "  </tbody>\n",
       "</table>\n",
       "</div>"
      ],
      "text/plain": [
       "      session_type                labels\n",
       "0  12899779_clicks  129004 126836 118524\n",
       "1   12899779_carts  129004 126836 118524\n",
       "2  12899779_orders  129004 126836 118524\n",
       "3  12899780_clicks  129004 126836 118524\n",
       "4   12899780_carts  129004 126836 118524"
      ]
     },
     "execution_count": 27,
     "metadata": {},
     "output_type": "execute_result"
    }
   ],
   "source": [
    "sample_submission = pd.read_csv(SAMPLE_SUBMISSION_RAW_PATH)\n",
    "sample_submission.head()"
   ]
  },
  {
   "cell_type": "code",
   "execution_count": 28,
   "metadata": {},
   "outputs": [],
   "source": [
    "sample_size = 150000\n",
    "\n",
    "chunks = pd.read_json(TRAIN_RAW_PATH, lines=True, chunksize = sample_size)\n",
    "\n",
    "clicks_article_list = []\n",
    "carts_article_list = []\n",
    "orders_article_list = []\n",
    "\n",
    "for e, c in enumerate(chunks):\n",
    "    \n",
    "    # Save time by not using all the data\n",
    "    if e > 2:\n",
    "        break\n",
    "    \n",
    "    sample_train_df = c\n",
    "    \n",
    "    for i, row in c.iterrows():\n",
    "        actions = row['events']\n",
    "        for action in actions:\n",
    "            if action['type'] == 'clicks':\n",
    "                clicks_article_list.append(action['aid'])\n",
    "            elif action['type'] == 'carts':\n",
    "                carts_article_list.append(action['aid'])\n",
    "            else:\n",
    "                orders_article_list.append(action['aid'])"
   ]
  },
  {
   "cell_type": "code",
   "execution_count": 31,
   "metadata": {},
   "outputs": [],
   "source": [
    "# Create dictionaries with articles and their frequencies\n",
    "article_click_freq = Counter(clicks_article_list)\n",
    "article_carts_freq = Counter(carts_article_list)\n",
    "article_order_freq = Counter(orders_article_list)"
   ]
  },
  {
   "cell_type": "code",
   "execution_count": 32,
   "metadata": {},
   "outputs": [],
   "source": [
    "# Get the 20 most frequent articles for each action\n",
    "top_click_article = nlargest(20, article_click_freq, key = article_click_freq.get)\n",
    "top_carts_article = nlargest(20, article_carts_freq, key = article_carts_freq.get)\n",
    "top_order_article = nlargest(20, article_order_freq, key = article_order_freq.get)"
   ]
  },
  {
   "cell_type": "code",
   "execution_count": 33,
   "metadata": {},
   "outputs": [],
   "source": [
    "# Create a dict with this info\n",
    "frequent_articles = {'clicks': top_click_article, 'carts':top_carts_article, 'order':top_order_article}"
   ]
  },
  {
   "cell_type": "code",
   "execution_count": 34,
   "metadata": {},
   "outputs": [
    {
     "name": "stdout",
     "output_type": "stream",
     "text": [
      "Most frequent articles for clicks: [29735, 1733943, 108125, 1603001, 832192]\n",
      "Most frequent articles for carts: [80222, 29735, 1733943, 166037, 485256]\n",
      "Most frequent articles for order: [80222, 166037, 1022566, 351335, 1629608]\n"
     ]
    }
   ],
   "source": [
    "for action in ['clicks', 'carts', 'order']:\n",
    "    print(f'Most frequent articles for {action}: {frequent_articles[action][:5]}')"
   ]
  },
  {
   "cell_type": "code",
   "execution_count": 35,
   "metadata": {},
   "outputs": [
    {
     "data": {
      "application/vnd.jupyter.widget-view+json": {
       "model_id": "26fbfc90ebcd4f4b823dc732e58d2b4a",
       "version_major": 2,
       "version_minor": 0
      },
      "text/plain": [
       "  0%|          | 0/1671 [00:00<?, ?it/s]"
      ]
     },
     "metadata": {},
     "output_type": "display_data"
    }
   ],
   "source": [
    "test_data = pd.read_json(TEST_PATH, lines=True, chunksize=1000)\n",
    "\n",
    "preds = []\n",
    "\n",
    "for chunk in tqdm(test_data, total=1671):\n",
    "    \n",
    "    for i, row in chunk.iterrows():\n",
    "        actions = row['events']\n",
    "        article_id_list = []\n",
    "        for action in actions:\n",
    "            article_id_list.append(action['aid'])\n",
    "            \n",
    "        # Get 20 most common article ID for the session\n",
    "        article_freq = Counter(article_id_list)\n",
    "        top_articles = nlargest(20, article_freq, key = article_freq.get)\n",
    "        \n",
    "        # Pad with most popular items in training\n",
    "        padding_size = (20 - len(top_articles)) \n",
    "        for action in ['clicks', 'carts', 'order']:\n",
    "            top_articles_added = top_articles + frequent_articles[action][:padding_size] \n",
    "            preds.append(\" \".join([str(id) for id in top_articles_added]))"
   ]
  },
  {
   "cell_type": "code",
   "execution_count": 36,
   "metadata": {},
   "outputs": [],
   "source": [
    "# Predict the 20 most common atricles for each test session\n",
    "sample_submission['labels'] = preds\n"
   ]
  },
  {
   "cell_type": "code",
   "execution_count": 37,
   "metadata": {},
   "outputs": [],
   "source": [
    "sample_submission.to_csv('submission.csv', index=False)\n"
   ]
  },
  {
   "cell_type": "code",
   "execution_count": 40,
   "metadata": {},
   "outputs": [
    {
     "name": "stdout",
     "output_type": "stream",
     "text": [
      "Warning: Your Kaggle API key is readable by other users on this system! To fix this, you can run 'chmod 600 /Users/Artem_Boltaev/.kaggle/kaggle.json'\n",
      "100%|████████████████████████████████████████| 770M/770M [10:25<00:00, 1.29MB/s]\n",
      "Traceback (most recent call last):\n",
      "  File \"/Users/Artem_Boltaev/opt/anaconda3/lib/python3.9/site-packages/urllib3/connectionpool.py\", line 449, in _make_request\n",
      "    six.raise_from(e, None)\n",
      "  File \"<string>\", line 3, in raise_from\n",
      "  File \"/Users/Artem_Boltaev/opt/anaconda3/lib/python3.9/site-packages/urllib3/connectionpool.py\", line 444, in _make_request\n",
      "    httplib_response = conn.getresponse()\n",
      "  File \"/Users/Artem_Boltaev/opt/anaconda3/lib/python3.9/http/client.py\", line 1377, in getresponse\n",
      "    response.begin()\n",
      "  File \"/Users/Artem_Boltaev/opt/anaconda3/lib/python3.9/http/client.py\", line 320, in begin\n",
      "    version, status, reason = self._read_status()\n",
      "  File \"/Users/Artem_Boltaev/opt/anaconda3/lib/python3.9/http/client.py\", line 281, in _read_status\n",
      "    line = str(self.fp.readline(_MAXLINE + 1), \"iso-8859-1\")\n",
      "  File \"/Users/Artem_Boltaev/opt/anaconda3/lib/python3.9/socket.py\", line 704, in readinto\n",
      "    return self._sock.recv_into(b)\n",
      "  File \"/Users/Artem_Boltaev/opt/anaconda3/lib/python3.9/ssl.py\", line 1241, in recv_into\n",
      "    return self.read(nbytes, buffer)\n",
      "  File \"/Users/Artem_Boltaev/opt/anaconda3/lib/python3.9/ssl.py\", line 1099, in read\n",
      "    return self._sslobj.read(len, buffer)\n",
      "TimeoutError: [Errno 60] Operation timed out\n",
      "\n",
      "During handling of the above exception, another exception occurred:\n",
      "\n",
      "Traceback (most recent call last):\n",
      "  File \"/Users/Artem_Boltaev/opt/anaconda3/bin/kaggle\", line 8, in <module>\n",
      "    sys.exit(main())\n",
      "  File \"/Users/Artem_Boltaev/opt/anaconda3/lib/python3.9/site-packages/kaggle/cli.py\", line 67, in main\n",
      "    out = args.func(**command_args)\n",
      "  File \"/Users/Artem_Boltaev/opt/anaconda3/lib/python3.9/site-packages/kaggle/api/kaggle_api_extended.py\", line 561, in competition_submit_cli\n",
      "    submit_result = self.competition_submit(file_name, message,\n",
      "  File \"/Users/Artem_Boltaev/opt/anaconda3/lib/python3.9/site-packages/kaggle/api/kaggle_api_extended.py\", line 541, in competition_submit\n",
      "    self.competitions_submissions_submit_with_http_info(\n",
      "  File \"/Users/Artem_Boltaev/opt/anaconda3/lib/python3.9/site-packages/kaggle/api/kaggle_api.py\", line 808, in competitions_submissions_submit_with_http_info\n",
      "    return self.api_client.call_api(\n",
      "  File \"/Users/Artem_Boltaev/opt/anaconda3/lib/python3.9/site-packages/kaggle/api_client.py\", line 329, in call_api\n",
      "    return self.__call_api(resource_path, method,\n",
      "  File \"/Users/Artem_Boltaev/opt/anaconda3/lib/python3.9/site-packages/kaggle/api_client.py\", line 161, in __call_api\n",
      "    response_data = self.request(\n",
      "  File \"/Users/Artem_Boltaev/opt/anaconda3/lib/python3.9/site-packages/kaggle/api_client.py\", line 371, in request\n",
      "    return self.rest_client.POST(url,\n",
      "  File \"/Users/Artem_Boltaev/opt/anaconda3/lib/python3.9/site-packages/kaggle/rest.py\", line 282, in POST\n",
      "    return self.request(\"POST\", url,\n",
      "  File \"/Users/Artem_Boltaev/opt/anaconda3/lib/python3.9/site-packages/kaggle/rest.py\", line 194, in request\n",
      "    r = self.pool_manager.request(\n",
      "  File \"/Users/Artem_Boltaev/opt/anaconda3/lib/python3.9/site-packages/urllib3/request.py\", line 78, in request\n",
      "    return self.request_encode_body(\n",
      "  File \"/Users/Artem_Boltaev/opt/anaconda3/lib/python3.9/site-packages/urllib3/request.py\", line 170, in request_encode_body\n",
      "    return self.urlopen(method, url, **extra_kw)\n",
      "  File \"/Users/Artem_Boltaev/opt/anaconda3/lib/python3.9/site-packages/urllib3/poolmanager.py\", line 376, in urlopen\n",
      "    response = conn.urlopen(method, u.request_uri, **kw)\n",
      "  File \"/Users/Artem_Boltaev/opt/anaconda3/lib/python3.9/site-packages/urllib3/connectionpool.py\", line 787, in urlopen\n",
      "    retries = retries.increment(\n",
      "  File \"/Users/Artem_Boltaev/opt/anaconda3/lib/python3.9/site-packages/urllib3/util/retry.py\", line 550, in increment\n",
      "    raise six.reraise(type(error), error, _stacktrace)\n",
      "  File \"/Users/Artem_Boltaev/opt/anaconda3/lib/python3.9/site-packages/urllib3/packages/six.py\", line 770, in reraise\n",
      "    raise value\n",
      "  File \"/Users/Artem_Boltaev/opt/anaconda3/lib/python3.9/site-packages/urllib3/connectionpool.py\", line 703, in urlopen\n",
      "    httplib_response = self._make_request(\n",
      "  File \"/Users/Artem_Boltaev/opt/anaconda3/lib/python3.9/site-packages/urllib3/connectionpool.py\", line 451, in _make_request\n",
      "    self._raise_timeout(err=e, url=url, timeout_value=read_timeout)\n",
      "  File \"/Users/Artem_Boltaev/opt/anaconda3/lib/python3.9/site-packages/urllib3/connectionpool.py\", line 357, in _raise_timeout\n",
      "    raise ReadTimeoutError(\n",
      "urllib3.exceptions.ReadTimeoutError: HTTPSConnectionPool(host='www.kaggle.com', port=443): Read timed out. (read timeout=None)\n"
     ]
    }
   ],
   "source": [
    "!kaggle competitions submit -c otto-recommender-system -f submission.csv -m \"Message\""
   ]
  },
  {
   "cell_type": "code",
   "execution_count": null,
   "metadata": {},
   "outputs": [],
   "source": []
  }
 ],
 "metadata": {
  "kernelspec": {
   "display_name": "lightgbm",
   "language": "python",
   "name": "python3"
  },
  "language_info": {
   "codemirror_mode": {
    "name": "ipython",
    "version": 3
   },
   "file_extension": ".py",
   "mimetype": "text/x-python",
   "name": "python",
   "nbconvert_exporter": "python",
   "pygments_lexer": "ipython3",
   "version": "3.9.13"
  },
  "orig_nbformat": 4,
  "vscode": {
   "interpreter": {
    "hash": "772dc14061aeedf7aa844f4263c3f55d9475335dc47a5cd10daefec52219774b"
   }
  }
 },
 "nbformat": 4,
 "nbformat_minor": 2
}
